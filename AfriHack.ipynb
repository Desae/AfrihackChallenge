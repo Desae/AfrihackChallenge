{
 "cells": [
  {
   "cell_type": "markdown",
   "metadata": {},
   "source": [
    "## Day 2"
   ]
  },
  {
   "cell_type": "code",
   "execution_count": 15,
   "metadata": {
    "collapsed": true
   },
   "outputs": [],
   "source": [
    "def get_middle(s):\n",
    "    n = len(s)\n",
    "    midchar = n//2\n",
    "    \n",
    "    if n % 2 == 1:\n",
    "        return s[midchar]\n",
    "    else:\n",
    "        return s[midchar-1:midchar+1]"
   ]
  },
  {
   "cell_type": "code",
   "execution_count": 17,
   "metadata": {},
   "outputs": [
    {
     "data": {
      "text/plain": [
       "'e'"
      ]
     },
     "execution_count": 17,
     "metadata": {},
     "output_type": "execute_result"
    }
   ],
   "source": [
    "get_middle('asedw')"
   ]
  },
  {
   "cell_type": "code",
   "execution_count": 37,
   "metadata": {
    "collapsed": true
   },
   "outputs": [],
   "source": [
    "def sum_two_smallest_numbers(numbers):\n",
    "    min_num1 = numbers.pop(numbers.index(min(numbers)))\n",
    "    min_num2 = numbers.pop(numbers.index(min(numbers)))\n",
    "    return min_num1 + min_num2"
   ]
  },
  {
   "cell_type": "code",
   "execution_count": 40,
   "metadata": {},
   "outputs": [
    {
     "data": {
      "text/plain": [
       "7"
      ]
     },
     "execution_count": 40,
     "metadata": {},
     "output_type": "execute_result"
    }
   ],
   "source": [
    "sum_two_smallest_numbers([19, 5, 42, 2, 77])"
   ]
  },
  {
   "cell_type": "markdown",
   "metadata": {
    "collapsed": true
   },
   "source": [
    "## Day 3"
   ]
  },
  {
   "cell_type": "code",
   "execution_count": 17,
   "metadata": {
    "collapsed": true
   },
   "outputs": [],
   "source": [
    "def square_digits(num):\n",
    "    lst = list(str(num))\n",
    "    lst2 = [int(i) for i in lst]\n",
    "    lstSquare = [i*i for i in lst2]\n",
    "    lst3 = [str(i) for i in lstSquare]\n",
    "    num = int(''.join(lst3))\n",
    "    print(lst)\n",
    "    print(lst2)\n",
    "    print(lstSquare)\n",
    "    print(lst3)\n",
    "    print(num)\n",
    "    \n",
    "    print(type(num))"
   ]
  },
  {
   "cell_type": "code",
   "execution_count": 18,
   "metadata": {},
   "outputs": [
    {
     "name": "stdout",
     "output_type": "stream",
     "text": [
      "['9', '1', '1', '9']\n",
      "[9, 1, 1, 9]\n",
      "[81, 1, 1, 81]\n",
      "['81', '1', '1', '81']\n",
      "811181\n",
      "<class 'int'>\n"
     ]
    }
   ],
   "source": [
    "square_digits(9119)"
   ]
  },
  {
   "cell_type": "code",
   "execution_count": 57,
   "metadata": {
    "collapsed": true
   },
   "outputs": [],
   "source": [
    "def square_digits2(num):\n",
    "    num_str = int(''.join([str(int(i*i)) for i in [int(i) for i in str(num)]]))\n",
    "    return num_str\n",
    "    "
   ]
  },
  {
   "cell_type": "code",
   "execution_count": 58,
   "metadata": {},
   "outputs": [
    {
     "data": {
      "text/plain": [
       "811181"
      ]
     },
     "execution_count": 58,
     "metadata": {},
     "output_type": "execute_result"
    }
   ],
   "source": [
    "square_digits2(9119)"
   ]
  },
  {
   "cell_type": "code",
   "execution_count": 85,
   "metadata": {
    "collapsed": true
   },
   "outputs": [],
   "source": [
    "n = 4"
   ]
  },
  {
   "cell_type": "code",
   "execution_count": 86,
   "metadata": {},
   "outputs": [
    {
     "data": {
      "text/plain": [
       "[1, 2, 3, 4, 5, 6, 7, 8, 9, 10, 11, 12, 13, 14, 15, 16]"
      ]
     },
     "execution_count": 86,
     "metadata": {},
     "output_type": "execute_result"
    }
   ],
   "source": [
    "m = list(range(1,2**n+1))\n",
    "m"
   ]
  },
  {
   "cell_type": "code",
   "execution_count": 103,
   "metadata": {},
   "outputs": [
    {
     "data": {
      "text/plain": [
       "[0, 1, 2, 3]"
      ]
     },
     "execution_count": 103,
     "metadata": {},
     "output_type": "execute_result"
    }
   ],
   "source": [
    "num = list(range(0,4))\n",
    "num"
   ]
  },
  {
   "cell_type": "code",
   "execution_count": 104,
   "metadata": {},
   "outputs": [
    {
     "data": {
      "text/plain": [
       "[8, 4, 2, 1]"
      ]
     },
     "execution_count": 104,
     "metadata": {},
     "output_type": "execute_result"
    }
   ],
   "source": [
    "[2**i for i in num][::-1]"
   ]
  },
  {
   "cell_type": "code",
   "execution_count": 110,
   "metadata": {
    "collapsed": true
   },
   "outputs": [],
   "source": [
    "def binary_array_to_number(arr):\n",
    "    n = len(arr)\n",
    "    mul_arr = [2**i for i in list(range(0,n))][::-1]\n",
    "    return sum([i*j for (i,j) in list(zip(arr,mul_arr))])"
   ]
  },
  {
   "cell_type": "code",
   "execution_count": 116,
   "metadata": {},
   "outputs": [
    {
     "data": {
      "text/plain": [
       "33"
      ]
     },
     "execution_count": 116,
     "metadata": {},
     "output_type": "execute_result"
    }
   ],
   "source": [
    "binary_array_to_number([1, 0, 0, 0,0,1])"
   ]
  },
  {
   "cell_type": "markdown",
   "metadata": {},
   "source": [
    "## Day 4"
   ]
  },
  {
   "cell_type": "code",
   "execution_count": 53,
   "metadata": {
    "collapsed": true
   },
   "outputs": [],
   "source": [
    "def dont_give_me_five(start,end):\n",
    "    n = list(range(start,end +1))\n",
    "    str_list = [list(str(i)) for i in n]\n",
    "    result = [i for i in str_list if '5' not in i]\n",
    "    temp = [''.join(i) for i in result]\n",
    "    #print(temp)\n",
    "    return len(temp)   "
   ]
  },
  {
   "cell_type": "code",
   "execution_count": 55,
   "metadata": {},
   "outputs": [
    {
     "data": {
      "text/plain": [
       "8"
      ]
     },
     "execution_count": 55,
     "metadata": {},
     "output_type": "execute_result"
    }
   ],
   "source": [
    "dont_give_me_five(1,9)"
   ]
  },
  {
   "cell_type": "code",
   "execution_count": 56,
   "metadata": {},
   "outputs": [
    {
     "data": {
      "text/plain": [
       "True"
      ]
     },
     "execution_count": 56,
     "metadata": {},
     "output_type": "execute_result"
    }
   ],
   "source": [
    "'5' in '50'"
   ]
  },
  {
   "cell_type": "code",
   "execution_count": 47,
   "metadata": {
    "collapsed": true
   },
   "outputs": [],
   "source": [
    "x = 17"
   ]
  },
  {
   "cell_type": "code",
   "execution_count": 8,
   "metadata": {
    "collapsed": true
   },
   "outputs": [],
   "source": [
    "def is_triangle(a, b, c):\n",
    "    \"\"\"According to triangle inequality theorem\"\"\"\n",
    "    if (a+b > c) and (a+c > b) and (c+b > a):\n",
    "        return True\n",
    "    else:\n",
    "        return False\n"
   ]
  },
  {
   "cell_type": "code",
   "execution_count": 10,
   "metadata": {},
   "outputs": [
    {
     "data": {
      "text/plain": [
       "False"
      ]
     },
     "execution_count": 10,
     "metadata": {},
     "output_type": "execute_result"
    }
   ],
   "source": [
    "is_triangle(1,1,3)"
   ]
  },
  {
   "cell_type": "markdown",
   "metadata": {
    "collapsed": true
   },
   "source": [
    "## Day 6"
   ]
  },
  {
   "cell_type": "code",
   "execution_count": 7,
   "metadata": {
    "collapsed": true
   },
   "outputs": [],
   "source": [
    "def is_sorted_and_how(arr):\n",
    "    if arr == sorted(arr):\n",
    "        return 'yes, ascending'\n",
    "    elif arr == sorted(arr, reverse=True):\n",
    "        return 'yes, descending'\n",
    "    else:\n",
    "        return 'no'"
   ]
  },
  {
   "cell_type": "code",
   "execution_count": 8,
   "metadata": {},
   "outputs": [
    {
     "data": {
      "text/plain": [
       "'no'"
      ]
     },
     "execution_count": 8,
     "metadata": {},
     "output_type": "execute_result"
    }
   ],
   "source": [
    "is_sorted_and_how([7,0,3,5,1])"
   ]
  },
  {
   "cell_type": "code",
   "execution_count": 67,
   "metadata": {
    "collapsed": true
   },
   "outputs": [],
   "source": [
    "def pattern(n):\n",
    "    if n < 1:\n",
    "        return ''\n",
    "    else:\n",
    "        temp = ''\n",
    "        lst =  ''.join(str(i)[-1] for i in range(1,n+1))\n",
    "        print(lst)\n",
    "        for i in range(1,n+1):\n",
    "            if i != n:\n",
    "                temp += ' ' * (n-i) + lst + ' ' * (i-1) + '\\n'\n",
    "            else:\n",
    "                temp += ' ' * (n-i) + lst + ' ' * (i-1)\n",
    "            \n",
    "        print(temp)\n",
    "            \n",
    "    return temp"
   ]
  },
  {
   "cell_type": "code",
   "execution_count": 69,
   "metadata": {},
   "outputs": [
    {
     "name": "stdout",
     "output_type": "stream",
     "text": [
      "12345678901234567890\n",
      "                   12345678901234567890\n",
      "                  12345678901234567890 \n",
      "                 12345678901234567890  \n",
      "                12345678901234567890   \n",
      "               12345678901234567890    \n",
      "              12345678901234567890     \n",
      "             12345678901234567890      \n",
      "            12345678901234567890       \n",
      "           12345678901234567890        \n",
      "          12345678901234567890         \n",
      "         12345678901234567890          \n",
      "        12345678901234567890           \n",
      "       12345678901234567890            \n",
      "      12345678901234567890             \n",
      "     12345678901234567890              \n",
      "    12345678901234567890               \n",
      "   12345678901234567890                \n",
      "  12345678901234567890                 \n",
      " 12345678901234567890                  \n",
      "12345678901234567890                   \n"
     ]
    },
    {
     "data": {
      "text/plain": [
       "'                   12345678901234567890\\n                  12345678901234567890 \\n                 12345678901234567890  \\n                12345678901234567890   \\n               12345678901234567890    \\n              12345678901234567890     \\n             12345678901234567890      \\n            12345678901234567890       \\n           12345678901234567890        \\n          12345678901234567890         \\n         12345678901234567890          \\n        12345678901234567890           \\n       12345678901234567890            \\n      12345678901234567890             \\n     12345678901234567890              \\n    12345678901234567890               \\n   12345678901234567890                \\n  12345678901234567890                 \\n 12345678901234567890                  \\n12345678901234567890                   '"
      ]
     },
     "execution_count": 69,
     "metadata": {},
     "output_type": "execute_result"
    }
   ],
   "source": [
    "pattern(20)"
   ]
  },
  {
   "cell_type": "code",
   "execution_count": 59,
   "metadata": {
    "collapsed": true
   },
   "outputs": [],
   "source": [
    "'  123\\n 123 \\n123  '"
   ]
  },
  {
   "cell_type": "code",
   "execution_count": 60,
   "metadata": {
    "collapsed": true
   },
   "outputs": [],
   "source": [
    "'  123\\n 123 \\n123  '"
   ]
  },
  {
   "cell_type": "code",
   "execution_count": 65,
   "metadata": {
    "collapsed": true
   },
   "outputs": [],
   "source": [
    "def f2(n):\n",
    "    return ''.join(str(i)[-1] for i in range(1,21))"
   ]
  },
  {
   "cell_type": "code",
   "execution_count": 66,
   "metadata": {},
   "outputs": [
    {
     "data": {
      "text/plain": [
       "'12345678901234567890'"
      ]
     },
     "execution_count": 66,
     "metadata": {},
     "output_type": "execute_result"
    }
   ],
   "source": [
    "f2(20)"
   ]
  },
  {
   "cell_type": "markdown",
   "metadata": {
    "collapsed": true
   },
   "source": [
    "## Day 7"
   ]
  },
  {
   "cell_type": "code",
   "execution_count": 16,
   "metadata": {
    "collapsed": true
   },
   "outputs": [],
   "source": [
    "def capitals(word):\n",
    "    temp = {i:word[i] for i in range(len(word))}\n",
    "    #print(temp)\n",
    "    return [i for i in range(len(temp))  if temp[i].isupper()]"
   ]
  },
  {
   "cell_type": "code",
   "execution_count": 17,
   "metadata": {},
   "outputs": [
    {
     "name": "stdout",
     "output_type": "stream",
     "text": [
      "{0: 'C', 1: 'o', 2: 'd', 3: 'E', 4: 'W', 5: 'a', 6: 'R', 7: 's'}\n"
     ]
    },
    {
     "data": {
      "text/plain": [
       "[0, 3, 4, 6]"
      ]
     },
     "execution_count": 17,
     "metadata": {},
     "output_type": "execute_result"
    }
   ],
   "source": [
    "capitals('CodEWaRs')"
   ]
  },
  {
   "cell_type": "code",
   "execution_count": null,
   "metadata": {
    "collapsed": true
   },
   "outputs": [],
   "source": [
    "[0,3,4,6]"
   ]
  },
  {
   "cell_type": "code",
   "execution_count": 95,
   "metadata": {
    "collapsed": true
   },
   "outputs": [],
   "source": [
    "def series_sum(n):\n",
    "    result = 0.0\n",
    "    for i in range(1,n+1):\n",
    "        print(result)\n",
    "        result += (1/((i * 2 ) + (i - 2)))\n",
    "        \n",
    "    return \"{0:.2f}\".format(result)\n",
    "#str(round(result,2))"
   ]
  },
  {
   "cell_type": "code",
   "execution_count": 97,
   "metadata": {},
   "outputs": [
    {
     "name": "stdout",
     "output_type": "stream",
     "text": [
      "0.0\n"
     ]
    },
    {
     "data": {
      "text/plain": [
       "'1.00'"
      ]
     },
     "execution_count": 97,
     "metadata": {},
     "output_type": "execute_result"
    }
   ],
   "source": [
    "series_sum(1)"
   ]
  },
  {
   "cell_type": "code",
   "execution_count": 72,
   "metadata": {
    "collapsed": true
   },
   "outputs": [],
   "source": []
  },
  {
   "cell_type": "code",
   "execution_count": null,
   "metadata": {
    "collapsed": true
   },
   "outputs": [],
   "source": [
    "SeriesSum(1) => 1 = \"1.00\"\n",
    "SeriesSum(2) => 1 + 1/4 = \"1.25\"\n",
    "SeriesSum(5) => 1 + 1/4 + 1/7 + 1/10 + 1/13 = \"1.57\""
   ]
  },
  {
   "cell_type": "code",
   "execution_count": 36,
   "metadata": {},
   "outputs": [
    {
     "data": {
      "text/plain": [
       "1.5697802197802198"
      ]
     },
     "execution_count": 36,
     "metadata": {},
     "output_type": "execute_result"
    }
   ],
   "source": [
    "1 + 1/4 + 1/7 + 1/10 + 1/13"
   ]
  },
  {
   "cell_type": "code",
   "execution_count": 37,
   "metadata": {},
   "outputs": [
    {
     "data": {
      "text/plain": [
       "0.07692307692307693"
      ]
     },
     "execution_count": 37,
     "metadata": {},
     "output_type": "execute_result"
    }
   ],
   "source": [
    "1/13"
   ]
  },
  {
   "cell_type": "code",
   "execution_count": 38,
   "metadata": {},
   "outputs": [
    {
     "data": {
      "text/plain": [
       "0.1"
      ]
     },
     "execution_count": 38,
     "metadata": {},
     "output_type": "execute_result"
    }
   ],
   "source": [
    "1/10"
   ]
  },
  {
   "cell_type": "code",
   "execution_count": 39,
   "metadata": {},
   "outputs": [
    {
     "data": {
      "text/plain": [
       "0.14285714285714285"
      ]
     },
     "execution_count": 39,
     "metadata": {},
     "output_type": "execute_result"
    }
   ],
   "source": [
    "1/7"
   ]
  },
  {
   "cell_type": "code",
   "execution_count": 40,
   "metadata": {},
   "outputs": [
    {
     "data": {
      "text/plain": [
       "0.25"
      ]
     },
     "execution_count": 40,
     "metadata": {},
     "output_type": "execute_result"
    }
   ],
   "source": [
    "1/4"
   ]
  },
  {
   "cell_type": "code",
   "execution_count": 41,
   "metadata": {},
   "outputs": [
    {
     "data": {
      "text/plain": [
       "1"
      ]
     },
     "execution_count": 41,
     "metadata": {},
     "output_type": "execute_result"
    }
   ],
   "source": [
    "1"
   ]
  },
  {
   "cell_type": "markdown",
   "metadata": {
    "collapsed": true
   },
   "source": [
    "## Day 8"
   ]
  },
  {
   "cell_type": "code",
   "execution_count": 1,
   "metadata": {},
   "outputs": [
    {
     "name": "stdout",
     "output_type": "stream",
     "text": [
      "1079\n"
     ]
    }
   ],
   "source": [
    "import numpy as np\n",
    "a = np.arange(1, 1650, 2)\n",
    "b = np.arange(1000, 1999, 2)\n",
    "\n",
    "print(int(np.mean(np.concatenate((a,b)))))"
   ]
  },
  {
   "cell_type": "markdown",
   "metadata": {
    "collapsed": true
   },
   "source": [
    "## Day 9"
   ]
  },
  {
   "cell_type": "code",
   "execution_count": 1,
   "metadata": {
    "collapsed": true
   },
   "outputs": [],
   "source": [
    "import pandas as pd"
   ]
  },
  {
   "cell_type": "code",
   "execution_count": 7,
   "metadata": {},
   "outputs": [
    {
     "data": {
      "text/html": [
       "<div>\n",
       "<style>\n",
       "    .dataframe thead tr:only-child th {\n",
       "        text-align: right;\n",
       "    }\n",
       "\n",
       "    .dataframe thead th {\n",
       "        text-align: left;\n",
       "    }\n",
       "\n",
       "    .dataframe tbody tr th {\n",
       "        vertical-align: top;\n",
       "    }\n",
       "</style>\n",
       "<table border=\"1\" class=\"dataframe\">\n",
       "  <thead>\n",
       "    <tr style=\"text-align: right;\">\n",
       "      <th></th>\n",
       "      <th>Date</th>\n",
       "      <th>Month</th>\n",
       "      <th>Day</th>\n",
       "      <th>Temperature</th>\n",
       "      <th>Rainfall</th>\n",
       "      <th>Flyers</th>\n",
       "      <th>Price</th>\n",
       "      <th>Sales</th>\n",
       "      <th>Revenue</th>\n",
       "    </tr>\n",
       "  </thead>\n",
       "  <tbody>\n",
       "    <tr>\n",
       "      <th>0</th>\n",
       "      <td>12-31-2017</td>\n",
       "      <td>December</td>\n",
       "      <td>Sunday</td>\n",
       "      <td>15.1</td>\n",
       "      <td>2.50</td>\n",
       "      <td>9</td>\n",
       "      <td>0.3</td>\n",
       "      <td>7</td>\n",
       "      <td>$2.10</td>\n",
       "    </tr>\n",
       "    <tr>\n",
       "      <th>1</th>\n",
       "      <td>1-1-2017</td>\n",
       "      <td>January</td>\n",
       "      <td>Sunday</td>\n",
       "      <td>27.0</td>\n",
       "      <td>2.00</td>\n",
       "      <td>15</td>\n",
       "      <td>0.3</td>\n",
       "      <td>10</td>\n",
       "      <td>$3.00</td>\n",
       "    </tr>\n",
       "    <tr>\n",
       "      <th>2</th>\n",
       "      <td>12-5-2017</td>\n",
       "      <td>December</td>\n",
       "      <td>Tuesday</td>\n",
       "      <td>22.0</td>\n",
       "      <td>1.82</td>\n",
       "      <td>11</td>\n",
       "      <td>0.3</td>\n",
       "      <td>10</td>\n",
       "      <td>$3.00</td>\n",
       "    </tr>\n",
       "    <tr>\n",
       "      <th>3</th>\n",
       "      <td>12-10-2017</td>\n",
       "      <td>December</td>\n",
       "      <td>Sunday</td>\n",
       "      <td>31.3</td>\n",
       "      <td>1.82</td>\n",
       "      <td>15</td>\n",
       "      <td>0.3</td>\n",
       "      <td>11</td>\n",
       "      <td>$3.30</td>\n",
       "    </tr>\n",
       "    <tr>\n",
       "      <th>4</th>\n",
       "      <td>1-16-2017</td>\n",
       "      <td>January</td>\n",
       "      <td>Monday</td>\n",
       "      <td>30.6</td>\n",
       "      <td>1.67</td>\n",
       "      <td>24</td>\n",
       "      <td>0.3</td>\n",
       "      <td>12</td>\n",
       "      <td>$3.60</td>\n",
       "    </tr>\n",
       "  </tbody>\n",
       "</table>\n",
       "</div>"
      ],
      "text/plain": [
       "         Date     Month      Day  Temperature  Rainfall  Flyers  Price  Sales  \\\n",
       "0  12-31-2017  December   Sunday         15.1      2.50       9    0.3      7   \n",
       "1    1-1-2017   January   Sunday         27.0      2.00      15    0.3     10   \n",
       "2   12-5-2017  December  Tuesday         22.0      1.82      11    0.3     10   \n",
       "3  12-10-2017  December   Sunday         31.3      1.82      15    0.3     11   \n",
       "4   1-16-2017   January   Monday         30.6      1.67      24    0.3     12   \n",
       "\n",
       "   Revenue   \n",
       "0    $2.10   \n",
       "1    $3.00   \n",
       "2    $3.00   \n",
       "3    $3.30   \n",
       "4    $3.60   "
      ]
     },
     "execution_count": 7,
     "metadata": {},
     "output_type": "execute_result"
    }
   ],
   "source": [
    "df = pd.read_csv('./Lemonade/Lemonade.csv')\n",
    "df.head()"
   ]
  },
  {
   "cell_type": "code",
   "execution_count": 11,
   "metadata": {},
   "outputs": [
    {
     "data": {
      "text/html": [
       "<div>\n",
       "<style>\n",
       "    .dataframe thead tr:only-child th {\n",
       "        text-align: right;\n",
       "    }\n",
       "\n",
       "    .dataframe thead th {\n",
       "        text-align: left;\n",
       "    }\n",
       "\n",
       "    .dataframe tbody tr th {\n",
       "        vertical-align: top;\n",
       "    }\n",
       "</style>\n",
       "<table border=\"1\" class=\"dataframe\">\n",
       "  <thead>\n",
       "    <tr style=\"text-align: right;\">\n",
       "      <th></th>\n",
       "      <th>Date</th>\n",
       "      <th>Month</th>\n",
       "      <th>Day</th>\n",
       "      <th>Temperature</th>\n",
       "      <th>Rainfall</th>\n",
       "      <th>Flyers</th>\n",
       "      <th>Price</th>\n",
       "      <th>Sales</th>\n",
       "      <th>Revenue</th>\n",
       "    </tr>\n",
       "  </thead>\n",
       "  <tbody>\n",
       "    <tr>\n",
       "      <th>245</th>\n",
       "      <td>9-16-2017</td>\n",
       "      <td>September</td>\n",
       "      <td>Saturday</td>\n",
       "      <td>68.1</td>\n",
       "      <td>0.69</td>\n",
       "      <td>37</td>\n",
       "      <td>0.3</td>\n",
       "      <td>27</td>\n",
       "      <td>$8.10</td>\n",
       "    </tr>\n",
       "    <tr>\n",
       "      <th>246</th>\n",
       "      <td>9-20-2017</td>\n",
       "      <td>September</td>\n",
       "      <td>Wednesday</td>\n",
       "      <td>67.1</td>\n",
       "      <td>0.69</td>\n",
       "      <td>52</td>\n",
       "      <td>0.3</td>\n",
       "      <td>27</td>\n",
       "      <td>$8.10</td>\n",
       "    </tr>\n",
       "    <tr>\n",
       "      <th>247</th>\n",
       "      <td>9-28-2017</td>\n",
       "      <td>September</td>\n",
       "      <td>Thursday</td>\n",
       "      <td>67.4</td>\n",
       "      <td>0.69</td>\n",
       "      <td>38</td>\n",
       "      <td>0.3</td>\n",
       "      <td>28</td>\n",
       "      <td>$8.40</td>\n",
       "    </tr>\n",
       "    <tr>\n",
       "      <th>248</th>\n",
       "      <td>5-6-2017</td>\n",
       "      <td>May</td>\n",
       "      <td>Saturday</td>\n",
       "      <td>66.7</td>\n",
       "      <td>0.67</td>\n",
       "      <td>51</td>\n",
       "      <td>0.3</td>\n",
       "      <td>29</td>\n",
       "      <td>$8.70</td>\n",
       "    </tr>\n",
       "    <tr>\n",
       "      <th>249</th>\n",
       "      <td>5-8-2017</td>\n",
       "      <td>May</td>\n",
       "      <td>Monday</td>\n",
       "      <td>75.0</td>\n",
       "      <td>0.67</td>\n",
       "      <td>56</td>\n",
       "      <td>0.3</td>\n",
       "      <td>30</td>\n",
       "      <td>$9.00</td>\n",
       "    </tr>\n",
       "    <tr>\n",
       "      <th>250</th>\n",
       "      <td>5-11-2017</td>\n",
       "      <td>May</td>\n",
       "      <td>Thursday</td>\n",
       "      <td>72.7</td>\n",
       "      <td>0.67</td>\n",
       "      <td>57</td>\n",
       "      <td>0.3</td>\n",
       "      <td>29</td>\n",
       "      <td>$8.70</td>\n",
       "    </tr>\n",
       "    <tr>\n",
       "      <th>251</th>\n",
       "      <td>5-12-2017</td>\n",
       "      <td>May</td>\n",
       "      <td>Friday</td>\n",
       "      <td>66.7</td>\n",
       "      <td>0.67</td>\n",
       "      <td>40</td>\n",
       "      <td>0.3</td>\n",
       "      <td>29</td>\n",
       "      <td>$8.70</td>\n",
       "    </tr>\n",
       "    <tr>\n",
       "      <th>252</th>\n",
       "      <td>5-16-2017</td>\n",
       "      <td>May</td>\n",
       "      <td>Tuesday</td>\n",
       "      <td>65.7</td>\n",
       "      <td>0.67</td>\n",
       "      <td>55</td>\n",
       "      <td>0.3</td>\n",
       "      <td>29</td>\n",
       "      <td>$8.70</td>\n",
       "    </tr>\n",
       "    <tr>\n",
       "      <th>253</th>\n",
       "      <td>5-17-2017</td>\n",
       "      <td>May</td>\n",
       "      <td>Wednesday</td>\n",
       "      <td>70.7</td>\n",
       "      <td>0.67</td>\n",
       "      <td>43</td>\n",
       "      <td>0.3</td>\n",
       "      <td>29</td>\n",
       "      <td>$8.70</td>\n",
       "    </tr>\n",
       "    <tr>\n",
       "      <th>254</th>\n",
       "      <td>5-18-2017</td>\n",
       "      <td>May</td>\n",
       "      <td>Thursday</td>\n",
       "      <td>72.0</td>\n",
       "      <td>0.67</td>\n",
       "      <td>53</td>\n",
       "      <td>0.3</td>\n",
       "      <td>30</td>\n",
       "      <td>$9.00</td>\n",
       "    </tr>\n",
       "    <tr>\n",
       "      <th>255</th>\n",
       "      <td>5-20-2017</td>\n",
       "      <td>May</td>\n",
       "      <td>Saturday</td>\n",
       "      <td>64.4</td>\n",
       "      <td>0.67</td>\n",
       "      <td>59</td>\n",
       "      <td>0.3</td>\n",
       "      <td>28</td>\n",
       "      <td>$8.40</td>\n",
       "    </tr>\n",
       "    <tr>\n",
       "      <th>256</th>\n",
       "      <td>5-22-2017</td>\n",
       "      <td>May</td>\n",
       "      <td>Monday</td>\n",
       "      <td>71.0</td>\n",
       "      <td>0.67</td>\n",
       "      <td>34</td>\n",
       "      <td>0.3</td>\n",
       "      <td>30</td>\n",
       "      <td>$9.00</td>\n",
       "    </tr>\n",
       "    <tr>\n",
       "      <th>257</th>\n",
       "      <td>5-26-2017</td>\n",
       "      <td>May</td>\n",
       "      <td>Friday</td>\n",
       "      <td>72.0</td>\n",
       "      <td>0.67</td>\n",
       "      <td>63</td>\n",
       "      <td>0.3</td>\n",
       "      <td>30</td>\n",
       "      <td>$9.00</td>\n",
       "    </tr>\n",
       "    <tr>\n",
       "      <th>258</th>\n",
       "      <td>5-30-2017</td>\n",
       "      <td>May</td>\n",
       "      <td>Tuesday</td>\n",
       "      <td>75.0</td>\n",
       "      <td>0.67</td>\n",
       "      <td>43</td>\n",
       "      <td>0.3</td>\n",
       "      <td>30</td>\n",
       "      <td>$9.00</td>\n",
       "    </tr>\n",
       "    <tr>\n",
       "      <th>259</th>\n",
       "      <td>8-7-2017</td>\n",
       "      <td>August</td>\n",
       "      <td>Monday</td>\n",
       "      <td>75.0</td>\n",
       "      <td>0.67</td>\n",
       "      <td>38</td>\n",
       "      <td>0.5</td>\n",
       "      <td>30</td>\n",
       "      <td>$15.00</td>\n",
       "    </tr>\n",
       "    <tr>\n",
       "      <th>260</th>\n",
       "      <td>8-11-2017</td>\n",
       "      <td>August</td>\n",
       "      <td>Friday</td>\n",
       "      <td>75.0</td>\n",
       "      <td>0.67</td>\n",
       "      <td>49</td>\n",
       "      <td>0.5</td>\n",
       "      <td>30</td>\n",
       "      <td>$15.00</td>\n",
       "    </tr>\n",
       "    <tr>\n",
       "      <th>261</th>\n",
       "      <td>8-17-2017</td>\n",
       "      <td>August</td>\n",
       "      <td>Thursday</td>\n",
       "      <td>68.0</td>\n",
       "      <td>0.67</td>\n",
       "      <td>42</td>\n",
       "      <td>0.5</td>\n",
       "      <td>30</td>\n",
       "      <td>$15.00</td>\n",
       "    </tr>\n",
       "    <tr>\n",
       "      <th>262</th>\n",
       "      <td>8-23-2017</td>\n",
       "      <td>August</td>\n",
       "      <td>Wednesday</td>\n",
       "      <td>70.7</td>\n",
       "      <td>0.67</td>\n",
       "      <td>33</td>\n",
       "      <td>0.5</td>\n",
       "      <td>29</td>\n",
       "      <td>$14.50</td>\n",
       "    </tr>\n",
       "    <tr>\n",
       "      <th>263</th>\n",
       "      <td>9-7-2017</td>\n",
       "      <td>September</td>\n",
       "      <td>Thursday</td>\n",
       "      <td>68.4</td>\n",
       "      <td>0.67</td>\n",
       "      <td>49</td>\n",
       "      <td>0.3</td>\n",
       "      <td>28</td>\n",
       "      <td>$8.40</td>\n",
       "    </tr>\n",
       "    <tr>\n",
       "      <th>264</th>\n",
       "      <td>9-15-2017</td>\n",
       "      <td>September</td>\n",
       "      <td>Friday</td>\n",
       "      <td>63.4</td>\n",
       "      <td>0.67</td>\n",
       "      <td>41</td>\n",
       "      <td>0.3</td>\n",
       "      <td>28</td>\n",
       "      <td>$8.40</td>\n",
       "    </tr>\n",
       "    <tr>\n",
       "      <th>265</th>\n",
       "      <td>9-19-2017</td>\n",
       "      <td>September</td>\n",
       "      <td>Tuesday</td>\n",
       "      <td>67.4</td>\n",
       "      <td>0.67</td>\n",
       "      <td>48</td>\n",
       "      <td>0.3</td>\n",
       "      <td>28</td>\n",
       "      <td>$8.40</td>\n",
       "    </tr>\n",
       "    <tr>\n",
       "      <th>266</th>\n",
       "      <td>9-27-2017</td>\n",
       "      <td>September</td>\n",
       "      <td>Wednesday</td>\n",
       "      <td>70.7</td>\n",
       "      <td>0.67</td>\n",
       "      <td>51</td>\n",
       "      <td>0.3</td>\n",
       "      <td>29</td>\n",
       "      <td>$8.70</td>\n",
       "    </tr>\n",
       "    <tr>\n",
       "      <th>267</th>\n",
       "      <td>5-1-2017</td>\n",
       "      <td>May</td>\n",
       "      <td>Monday</td>\n",
       "      <td>66.7</td>\n",
       "      <td>0.65</td>\n",
       "      <td>56</td>\n",
       "      <td>0.3</td>\n",
       "      <td>29</td>\n",
       "      <td>$8.70</td>\n",
       "    </tr>\n",
       "    <tr>\n",
       "      <th>268</th>\n",
       "      <td>5-7-2017</td>\n",
       "      <td>May</td>\n",
       "      <td>Sunday</td>\n",
       "      <td>69.7</td>\n",
       "      <td>0.65</td>\n",
       "      <td>49</td>\n",
       "      <td>0.3</td>\n",
       "      <td>29</td>\n",
       "      <td>$8.70</td>\n",
       "    </tr>\n",
       "    <tr>\n",
       "      <th>269</th>\n",
       "      <td>5-13-2017</td>\n",
       "      <td>May</td>\n",
       "      <td>Saturday</td>\n",
       "      <td>70.0</td>\n",
       "      <td>0.65</td>\n",
       "      <td>34</td>\n",
       "      <td>0.3</td>\n",
       "      <td>30</td>\n",
       "      <td>$9.00</td>\n",
       "    </tr>\n",
       "    <tr>\n",
       "      <th>270</th>\n",
       "      <td>5-28-2017</td>\n",
       "      <td>May</td>\n",
       "      <td>Sunday</td>\n",
       "      <td>71.7</td>\n",
       "      <td>0.65</td>\n",
       "      <td>45</td>\n",
       "      <td>0.3</td>\n",
       "      <td>29</td>\n",
       "      <td>$8.70</td>\n",
       "    </tr>\n",
       "    <tr>\n",
       "      <th>271</th>\n",
       "      <td>5-29-2017</td>\n",
       "      <td>May</td>\n",
       "      <td>Monday</td>\n",
       "      <td>66.7</td>\n",
       "      <td>0.65</td>\n",
       "      <td>32</td>\n",
       "      <td>0.3</td>\n",
       "      <td>29</td>\n",
       "      <td>$8.70</td>\n",
       "    </tr>\n",
       "    <tr>\n",
       "      <th>272</th>\n",
       "      <td>5-31-2017</td>\n",
       "      <td>May</td>\n",
       "      <td>Wednesday</td>\n",
       "      <td>77.3</td>\n",
       "      <td>0.65</td>\n",
       "      <td>56</td>\n",
       "      <td>0.3</td>\n",
       "      <td>31</td>\n",
       "      <td>$9.30</td>\n",
       "    </tr>\n",
       "    <tr>\n",
       "      <th>273</th>\n",
       "      <td>6-1-2017</td>\n",
       "      <td>June</td>\n",
       "      <td>Thursday</td>\n",
       "      <td>71.3</td>\n",
       "      <td>0.65</td>\n",
       "      <td>42</td>\n",
       "      <td>0.3</td>\n",
       "      <td>31</td>\n",
       "      <td>$9.30</td>\n",
       "    </tr>\n",
       "    <tr>\n",
       "      <th>274</th>\n",
       "      <td>6-17-2017</td>\n",
       "      <td>June</td>\n",
       "      <td>Saturday</td>\n",
       "      <td>76.3</td>\n",
       "      <td>0.65</td>\n",
       "      <td>47</td>\n",
       "      <td>0.3</td>\n",
       "      <td>31</td>\n",
       "      <td>$9.30</td>\n",
       "    </tr>\n",
       "    <tr>\n",
       "      <th>...</th>\n",
       "      <td>...</td>\n",
       "      <td>...</td>\n",
       "      <td>...</td>\n",
       "      <td>...</td>\n",
       "      <td>...</td>\n",
       "      <td>...</td>\n",
       "      <td>...</td>\n",
       "      <td>...</td>\n",
       "      <td>...</td>\n",
       "    </tr>\n",
       "    <tr>\n",
       "      <th>292</th>\n",
       "      <td>8-1-2017</td>\n",
       "      <td>August</td>\n",
       "      <td>Tuesday</td>\n",
       "      <td>75.6</td>\n",
       "      <td>0.63</td>\n",
       "      <td>56</td>\n",
       "      <td>0.5</td>\n",
       "      <td>32</td>\n",
       "      <td>$16.00</td>\n",
       "    </tr>\n",
       "    <tr>\n",
       "      <th>293</th>\n",
       "      <td>8-2-2017</td>\n",
       "      <td>August</td>\n",
       "      <td>Wednesday</td>\n",
       "      <td>76.3</td>\n",
       "      <td>0.63</td>\n",
       "      <td>48</td>\n",
       "      <td>0.5</td>\n",
       "      <td>31</td>\n",
       "      <td>$15.50</td>\n",
       "    </tr>\n",
       "    <tr>\n",
       "      <th>294</th>\n",
       "      <td>8-3-2017</td>\n",
       "      <td>August</td>\n",
       "      <td>Thursday</td>\n",
       "      <td>75.0</td>\n",
       "      <td>0.63</td>\n",
       "      <td>52</td>\n",
       "      <td>0.5</td>\n",
       "      <td>30</td>\n",
       "      <td>$15.00</td>\n",
       "    </tr>\n",
       "    <tr>\n",
       "      <th>295</th>\n",
       "      <td>8-9-2017</td>\n",
       "      <td>August</td>\n",
       "      <td>Wednesday</td>\n",
       "      <td>76.6</td>\n",
       "      <td>0.63</td>\n",
       "      <td>55</td>\n",
       "      <td>0.5</td>\n",
       "      <td>32</td>\n",
       "      <td>$16.00</td>\n",
       "    </tr>\n",
       "    <tr>\n",
       "      <th>296</th>\n",
       "      <td>8-15-2017</td>\n",
       "      <td>August</td>\n",
       "      <td>Tuesday</td>\n",
       "      <td>74.3</td>\n",
       "      <td>0.63</td>\n",
       "      <td>44</td>\n",
       "      <td>0.5</td>\n",
       "      <td>31</td>\n",
       "      <td>$15.50</td>\n",
       "    </tr>\n",
       "    <tr>\n",
       "      <th>297</th>\n",
       "      <td>8-16-2017</td>\n",
       "      <td>August</td>\n",
       "      <td>Wednesday</td>\n",
       "      <td>71.0</td>\n",
       "      <td>0.63</td>\n",
       "      <td>49</td>\n",
       "      <td>0.5</td>\n",
       "      <td>30</td>\n",
       "      <td>$15.00</td>\n",
       "    </tr>\n",
       "    <tr>\n",
       "      <th>298</th>\n",
       "      <td>8-22-2017</td>\n",
       "      <td>August</td>\n",
       "      <td>Tuesday</td>\n",
       "      <td>69.0</td>\n",
       "      <td>0.63</td>\n",
       "      <td>55</td>\n",
       "      <td>0.5</td>\n",
       "      <td>30</td>\n",
       "      <td>$15.00</td>\n",
       "    </tr>\n",
       "    <tr>\n",
       "      <th>299</th>\n",
       "      <td>8-25-2017</td>\n",
       "      <td>August</td>\n",
       "      <td>Friday</td>\n",
       "      <td>71.0</td>\n",
       "      <td>0.63</td>\n",
       "      <td>55</td>\n",
       "      <td>0.5</td>\n",
       "      <td>30</td>\n",
       "      <td>$15.00</td>\n",
       "    </tr>\n",
       "    <tr>\n",
       "      <th>300</th>\n",
       "      <td>8-26-2017</td>\n",
       "      <td>August</td>\n",
       "      <td>Saturday</td>\n",
       "      <td>70.0</td>\n",
       "      <td>0.63</td>\n",
       "      <td>46</td>\n",
       "      <td>0.5</td>\n",
       "      <td>30</td>\n",
       "      <td>$15.00</td>\n",
       "    </tr>\n",
       "    <tr>\n",
       "      <th>301</th>\n",
       "      <td>8-28-2017</td>\n",
       "      <td>August</td>\n",
       "      <td>Monday</td>\n",
       "      <td>77.6</td>\n",
       "      <td>0.63</td>\n",
       "      <td>49</td>\n",
       "      <td>0.5</td>\n",
       "      <td>32</td>\n",
       "      <td>$16.00</td>\n",
       "    </tr>\n",
       "    <tr>\n",
       "      <th>302</th>\n",
       "      <td>8-30-2017</td>\n",
       "      <td>August</td>\n",
       "      <td>Wednesday</td>\n",
       "      <td>72.0</td>\n",
       "      <td>0.63</td>\n",
       "      <td>51</td>\n",
       "      <td>0.5</td>\n",
       "      <td>30</td>\n",
       "      <td>$15.00</td>\n",
       "    </tr>\n",
       "    <tr>\n",
       "      <th>303</th>\n",
       "      <td>5-19-2017</td>\n",
       "      <td>May</td>\n",
       "      <td>Friday</td>\n",
       "      <td>75.3</td>\n",
       "      <td>0.61</td>\n",
       "      <td>58</td>\n",
       "      <td>0.3</td>\n",
       "      <td>31</td>\n",
       "      <td>$9.30</td>\n",
       "    </tr>\n",
       "    <tr>\n",
       "      <th>304</th>\n",
       "      <td>6-9-2017</td>\n",
       "      <td>June</td>\n",
       "      <td>Friday</td>\n",
       "      <td>77.6</td>\n",
       "      <td>0.61</td>\n",
       "      <td>44</td>\n",
       "      <td>0.3</td>\n",
       "      <td>32</td>\n",
       "      <td>$9.60</td>\n",
       "    </tr>\n",
       "    <tr>\n",
       "      <th>305</th>\n",
       "      <td>6-23-2017</td>\n",
       "      <td>June</td>\n",
       "      <td>Friday</td>\n",
       "      <td>79.9</td>\n",
       "      <td>0.61</td>\n",
       "      <td>39</td>\n",
       "      <td>0.3</td>\n",
       "      <td>33</td>\n",
       "      <td>$9.90</td>\n",
       "    </tr>\n",
       "    <tr>\n",
       "      <th>306</th>\n",
       "      <td>7-13-2017</td>\n",
       "      <td>July</td>\n",
       "      <td>Thursday</td>\n",
       "      <td>78.9</td>\n",
       "      <td>0.61</td>\n",
       "      <td>49</td>\n",
       "      <td>0.5</td>\n",
       "      <td>33</td>\n",
       "      <td>$16.50</td>\n",
       "    </tr>\n",
       "    <tr>\n",
       "      <th>307</th>\n",
       "      <td>7-31-2017</td>\n",
       "      <td>July</td>\n",
       "      <td>Monday</td>\n",
       "      <td>74.6</td>\n",
       "      <td>0.61</td>\n",
       "      <td>38</td>\n",
       "      <td>0.5</td>\n",
       "      <td>32</td>\n",
       "      <td>$16.00</td>\n",
       "    </tr>\n",
       "    <tr>\n",
       "      <th>308</th>\n",
       "      <td>8-5-2017</td>\n",
       "      <td>August</td>\n",
       "      <td>Saturday</td>\n",
       "      <td>76.6</td>\n",
       "      <td>0.61</td>\n",
       "      <td>66</td>\n",
       "      <td>0.5</td>\n",
       "      <td>32</td>\n",
       "      <td>$16.00</td>\n",
       "    </tr>\n",
       "    <tr>\n",
       "      <th>309</th>\n",
       "      <td>8-6-2017</td>\n",
       "      <td>August</td>\n",
       "      <td>Sunday</td>\n",
       "      <td>77.3</td>\n",
       "      <td>0.61</td>\n",
       "      <td>36</td>\n",
       "      <td>0.5</td>\n",
       "      <td>31</td>\n",
       "      <td>$15.50</td>\n",
       "    </tr>\n",
       "    <tr>\n",
       "      <th>310</th>\n",
       "      <td>8-19-2017</td>\n",
       "      <td>August</td>\n",
       "      <td>Saturday</td>\n",
       "      <td>79.6</td>\n",
       "      <td>0.61</td>\n",
       "      <td>58</td>\n",
       "      <td>0.5</td>\n",
       "      <td>32</td>\n",
       "      <td>$16.00</td>\n",
       "    </tr>\n",
       "    <tr>\n",
       "      <th>311</th>\n",
       "      <td>6-2-2017</td>\n",
       "      <td>June</td>\n",
       "      <td>Friday</td>\n",
       "      <td>79.9</td>\n",
       "      <td>0.59</td>\n",
       "      <td>48</td>\n",
       "      <td>0.3</td>\n",
       "      <td>33</td>\n",
       "      <td>$9.90</td>\n",
       "    </tr>\n",
       "    <tr>\n",
       "      <th>312</th>\n",
       "      <td>6-5-2017</td>\n",
       "      <td>June</td>\n",
       "      <td>Monday</td>\n",
       "      <td>78.6</td>\n",
       "      <td>0.59</td>\n",
       "      <td>36</td>\n",
       "      <td>0.3</td>\n",
       "      <td>32</td>\n",
       "      <td>$9.60</td>\n",
       "    </tr>\n",
       "    <tr>\n",
       "      <th>313</th>\n",
       "      <td>6-13-2017</td>\n",
       "      <td>June</td>\n",
       "      <td>Tuesday</td>\n",
       "      <td>75.6</td>\n",
       "      <td>0.59</td>\n",
       "      <td>65</td>\n",
       "      <td>0.3</td>\n",
       "      <td>32</td>\n",
       "      <td>$9.60</td>\n",
       "    </tr>\n",
       "    <tr>\n",
       "      <th>314</th>\n",
       "      <td>6-18-2017</td>\n",
       "      <td>June</td>\n",
       "      <td>Sunday</td>\n",
       "      <td>72.6</td>\n",
       "      <td>0.59</td>\n",
       "      <td>60</td>\n",
       "      <td>0.3</td>\n",
       "      <td>32</td>\n",
       "      <td>$9.60</td>\n",
       "    </tr>\n",
       "    <tr>\n",
       "      <th>315</th>\n",
       "      <td>6-28-2017</td>\n",
       "      <td>June</td>\n",
       "      <td>Wednesday</td>\n",
       "      <td>75.9</td>\n",
       "      <td>0.59</td>\n",
       "      <td>65</td>\n",
       "      <td>0.3</td>\n",
       "      <td>33</td>\n",
       "      <td>$9.90</td>\n",
       "    </tr>\n",
       "    <tr>\n",
       "      <th>316</th>\n",
       "      <td>7-4-2017</td>\n",
       "      <td>July</td>\n",
       "      <td>Tuesday</td>\n",
       "      <td>84.2</td>\n",
       "      <td>0.59</td>\n",
       "      <td>49</td>\n",
       "      <td>0.5</td>\n",
       "      <td>34</td>\n",
       "      <td>$17.00</td>\n",
       "    </tr>\n",
       "    <tr>\n",
       "      <th>317</th>\n",
       "      <td>7-9-2017</td>\n",
       "      <td>July</td>\n",
       "      <td>Sunday</td>\n",
       "      <td>77.9</td>\n",
       "      <td>0.59</td>\n",
       "      <td>44</td>\n",
       "      <td>0.5</td>\n",
       "      <td>33</td>\n",
       "      <td>$16.50</td>\n",
       "    </tr>\n",
       "    <tr>\n",
       "      <th>318</th>\n",
       "      <td>7-16-2017</td>\n",
       "      <td>July</td>\n",
       "      <td>Sunday</td>\n",
       "      <td>79.2</td>\n",
       "      <td>0.59</td>\n",
       "      <td>50</td>\n",
       "      <td>0.5</td>\n",
       "      <td>34</td>\n",
       "      <td>$17.00</td>\n",
       "    </tr>\n",
       "    <tr>\n",
       "      <th>319</th>\n",
       "      <td>7-26-2017</td>\n",
       "      <td>July</td>\n",
       "      <td>Wednesday</td>\n",
       "      <td>76.6</td>\n",
       "      <td>0.59</td>\n",
       "      <td>37</td>\n",
       "      <td>0.5</td>\n",
       "      <td>32</td>\n",
       "      <td>$16.00</td>\n",
       "    </tr>\n",
       "    <tr>\n",
       "      <th>320</th>\n",
       "      <td>7-30-2017</td>\n",
       "      <td>July</td>\n",
       "      <td>Sunday</td>\n",
       "      <td>78.2</td>\n",
       "      <td>0.59</td>\n",
       "      <td>52</td>\n",
       "      <td>0.5</td>\n",
       "      <td>34</td>\n",
       "      <td>$17.00</td>\n",
       "    </tr>\n",
       "    <tr>\n",
       "      <th>321</th>\n",
       "      <td>8-14-2017</td>\n",
       "      <td>August</td>\n",
       "      <td>Monday</td>\n",
       "      <td>72.6</td>\n",
       "      <td>0.59</td>\n",
       "      <td>43</td>\n",
       "      <td>0.5</td>\n",
       "      <td>32</td>\n",
       "      <td>$16.00</td>\n",
       "    </tr>\n",
       "  </tbody>\n",
       "</table>\n",
       "<p>77 rows × 9 columns</p>\n",
       "</div>"
      ],
      "text/plain": [
       "          Date      Month        Day  Temperature  Rainfall  Flyers  Price  \\\n",
       "245  9-16-2017  September   Saturday         68.1      0.69      37    0.3   \n",
       "246  9-20-2017  September  Wednesday         67.1      0.69      52    0.3   \n",
       "247  9-28-2017  September   Thursday         67.4      0.69      38    0.3   \n",
       "248   5-6-2017        May   Saturday         66.7      0.67      51    0.3   \n",
       "249   5-8-2017        May     Monday         75.0      0.67      56    0.3   \n",
       "250  5-11-2017        May   Thursday         72.7      0.67      57    0.3   \n",
       "251  5-12-2017        May     Friday         66.7      0.67      40    0.3   \n",
       "252  5-16-2017        May    Tuesday         65.7      0.67      55    0.3   \n",
       "253  5-17-2017        May  Wednesday         70.7      0.67      43    0.3   \n",
       "254  5-18-2017        May   Thursday         72.0      0.67      53    0.3   \n",
       "255  5-20-2017        May   Saturday         64.4      0.67      59    0.3   \n",
       "256  5-22-2017        May     Monday         71.0      0.67      34    0.3   \n",
       "257  5-26-2017        May     Friday         72.0      0.67      63    0.3   \n",
       "258  5-30-2017        May    Tuesday         75.0      0.67      43    0.3   \n",
       "259   8-7-2017     August     Monday         75.0      0.67      38    0.5   \n",
       "260  8-11-2017     August     Friday         75.0      0.67      49    0.5   \n",
       "261  8-17-2017     August   Thursday         68.0      0.67      42    0.5   \n",
       "262  8-23-2017     August  Wednesday         70.7      0.67      33    0.5   \n",
       "263   9-7-2017  September   Thursday         68.4      0.67      49    0.3   \n",
       "264  9-15-2017  September     Friday         63.4      0.67      41    0.3   \n",
       "265  9-19-2017  September    Tuesday         67.4      0.67      48    0.3   \n",
       "266  9-27-2017  September  Wednesday         70.7      0.67      51    0.3   \n",
       "267   5-1-2017        May     Monday         66.7      0.65      56    0.3   \n",
       "268   5-7-2017        May     Sunday         69.7      0.65      49    0.3   \n",
       "269  5-13-2017        May   Saturday         70.0      0.65      34    0.3   \n",
       "270  5-28-2017        May     Sunday         71.7      0.65      45    0.3   \n",
       "271  5-29-2017        May     Monday         66.7      0.65      32    0.3   \n",
       "272  5-31-2017        May  Wednesday         77.3      0.65      56    0.3   \n",
       "273   6-1-2017       June   Thursday         71.3      0.65      42    0.3   \n",
       "274  6-17-2017       June   Saturday         76.3      0.65      47    0.3   \n",
       "..         ...        ...        ...          ...       ...     ...    ...   \n",
       "292   8-1-2017     August    Tuesday         75.6      0.63      56    0.5   \n",
       "293   8-2-2017     August  Wednesday         76.3      0.63      48    0.5   \n",
       "294   8-3-2017     August   Thursday         75.0      0.63      52    0.5   \n",
       "295   8-9-2017     August  Wednesday         76.6      0.63      55    0.5   \n",
       "296  8-15-2017     August    Tuesday         74.3      0.63      44    0.5   \n",
       "297  8-16-2017     August  Wednesday         71.0      0.63      49    0.5   \n",
       "298  8-22-2017     August    Tuesday         69.0      0.63      55    0.5   \n",
       "299  8-25-2017     August     Friday         71.0      0.63      55    0.5   \n",
       "300  8-26-2017     August   Saturday         70.0      0.63      46    0.5   \n",
       "301  8-28-2017     August     Monday         77.6      0.63      49    0.5   \n",
       "302  8-30-2017     August  Wednesday         72.0      0.63      51    0.5   \n",
       "303  5-19-2017        May     Friday         75.3      0.61      58    0.3   \n",
       "304   6-9-2017       June     Friday         77.6      0.61      44    0.3   \n",
       "305  6-23-2017       June     Friday         79.9      0.61      39    0.3   \n",
       "306  7-13-2017       July   Thursday         78.9      0.61      49    0.5   \n",
       "307  7-31-2017       July     Monday         74.6      0.61      38    0.5   \n",
       "308   8-5-2017     August   Saturday         76.6      0.61      66    0.5   \n",
       "309   8-6-2017     August     Sunday         77.3      0.61      36    0.5   \n",
       "310  8-19-2017     August   Saturday         79.6      0.61      58    0.5   \n",
       "311   6-2-2017       June     Friday         79.9      0.59      48    0.3   \n",
       "312   6-5-2017       June     Monday         78.6      0.59      36    0.3   \n",
       "313  6-13-2017       June    Tuesday         75.6      0.59      65    0.3   \n",
       "314  6-18-2017       June     Sunday         72.6      0.59      60    0.3   \n",
       "315  6-28-2017       June  Wednesday         75.9      0.59      65    0.3   \n",
       "316   7-4-2017       July    Tuesday         84.2      0.59      49    0.5   \n",
       "317   7-9-2017       July     Sunday         77.9      0.59      44    0.5   \n",
       "318  7-16-2017       July     Sunday         79.2      0.59      50    0.5   \n",
       "319  7-26-2017       July  Wednesday         76.6      0.59      37    0.5   \n",
       "320  7-30-2017       July     Sunday         78.2      0.59      52    0.5   \n",
       "321  8-14-2017     August     Monday         72.6      0.59      43    0.5   \n",
       "\n",
       "     Sales  Revenue   \n",
       "245     27    $8.10   \n",
       "246     27    $8.10   \n",
       "247     28    $8.40   \n",
       "248     29    $8.70   \n",
       "249     30    $9.00   \n",
       "250     29    $8.70   \n",
       "251     29    $8.70   \n",
       "252     29    $8.70   \n",
       "253     29    $8.70   \n",
       "254     30    $9.00   \n",
       "255     28    $8.40   \n",
       "256     30    $9.00   \n",
       "257     30    $9.00   \n",
       "258     30    $9.00   \n",
       "259     30   $15.00   \n",
       "260     30   $15.00   \n",
       "261     30   $15.00   \n",
       "262     29   $14.50   \n",
       "263     28    $8.40   \n",
       "264     28    $8.40   \n",
       "265     28    $8.40   \n",
       "266     29    $8.70   \n",
       "267     29    $8.70   \n",
       "268     29    $8.70   \n",
       "269     30    $9.00   \n",
       "270     29    $8.70   \n",
       "271     29    $8.70   \n",
       "272     31    $9.30   \n",
       "273     31    $9.30   \n",
       "274     31    $9.30   \n",
       "..     ...       ...  \n",
       "292     32   $16.00   \n",
       "293     31   $15.50   \n",
       "294     30   $15.00   \n",
       "295     32   $16.00   \n",
       "296     31   $15.50   \n",
       "297     30   $15.00   \n",
       "298     30   $15.00   \n",
       "299     30   $15.00   \n",
       "300     30   $15.00   \n",
       "301     32   $16.00   \n",
       "302     30   $15.00   \n",
       "303     31    $9.30   \n",
       "304     32    $9.60   \n",
       "305     33    $9.90   \n",
       "306     33   $16.50   \n",
       "307     32   $16.00   \n",
       "308     32   $16.00   \n",
       "309     31   $15.50   \n",
       "310     32   $16.00   \n",
       "311     33    $9.90   \n",
       "312     32    $9.60   \n",
       "313     32    $9.60   \n",
       "314     32    $9.60   \n",
       "315     33    $9.90   \n",
       "316     34   $17.00   \n",
       "317     33   $16.50   \n",
       "318     34   $17.00   \n",
       "319     32   $16.00   \n",
       "320     34   $17.00   \n",
       "321     32   $16.00   \n",
       "\n",
       "[77 rows x 9 columns]"
      ]
     },
     "execution_count": 11,
     "metadata": {},
     "output_type": "execute_result"
    }
   ],
   "source": [
    "sliced_data = df.loc[245:321]\n",
    "sliced_data"
   ]
  },
  {
   "cell_type": "code",
   "execution_count": 14,
   "metadata": {},
   "outputs": [
    {
     "data": {
      "text/html": [
       "<div>\n",
       "<style>\n",
       "    .dataframe thead tr:only-child th {\n",
       "        text-align: right;\n",
       "    }\n",
       "\n",
       "    .dataframe thead th {\n",
       "        text-align: left;\n",
       "    }\n",
       "\n",
       "    .dataframe tbody tr th {\n",
       "        vertical-align: top;\n",
       "    }\n",
       "</style>\n",
       "<table border=\"1\" class=\"dataframe\">\n",
       "  <thead>\n",
       "    <tr style=\"text-align: right;\">\n",
       "      <th></th>\n",
       "      <th>Date</th>\n",
       "      <th>Month</th>\n",
       "      <th>Day</th>\n",
       "      <th>Temperature</th>\n",
       "      <th>Rainfall</th>\n",
       "      <th>Flyers</th>\n",
       "      <th>Price</th>\n",
       "      <th>Sales</th>\n",
       "      <th>Revenue</th>\n",
       "    </tr>\n",
       "  </thead>\n",
       "  <tbody>\n",
       "    <tr>\n",
       "      <th>259</th>\n",
       "      <td>8-7-2017</td>\n",
       "      <td>August</td>\n",
       "      <td>Monday</td>\n",
       "      <td>75.0</td>\n",
       "      <td>0.67</td>\n",
       "      <td>38</td>\n",
       "      <td>0.5</td>\n",
       "      <td>30</td>\n",
       "      <td>$15.00</td>\n",
       "    </tr>\n",
       "    <tr>\n",
       "      <th>260</th>\n",
       "      <td>8-11-2017</td>\n",
       "      <td>August</td>\n",
       "      <td>Friday</td>\n",
       "      <td>75.0</td>\n",
       "      <td>0.67</td>\n",
       "      <td>49</td>\n",
       "      <td>0.5</td>\n",
       "      <td>30</td>\n",
       "      <td>$15.00</td>\n",
       "    </tr>\n",
       "    <tr>\n",
       "      <th>261</th>\n",
       "      <td>8-17-2017</td>\n",
       "      <td>August</td>\n",
       "      <td>Thursday</td>\n",
       "      <td>68.0</td>\n",
       "      <td>0.67</td>\n",
       "      <td>42</td>\n",
       "      <td>0.5</td>\n",
       "      <td>30</td>\n",
       "      <td>$15.00</td>\n",
       "    </tr>\n",
       "    <tr>\n",
       "      <th>262</th>\n",
       "      <td>8-23-2017</td>\n",
       "      <td>August</td>\n",
       "      <td>Wednesday</td>\n",
       "      <td>70.7</td>\n",
       "      <td>0.67</td>\n",
       "      <td>33</td>\n",
       "      <td>0.5</td>\n",
       "      <td>29</td>\n",
       "      <td>$14.50</td>\n",
       "    </tr>\n",
       "    <tr>\n",
       "      <th>276</th>\n",
       "      <td>8-8-2017</td>\n",
       "      <td>August</td>\n",
       "      <td>Tuesday</td>\n",
       "      <td>68.7</td>\n",
       "      <td>0.65</td>\n",
       "      <td>50</td>\n",
       "      <td>0.5</td>\n",
       "      <td>29</td>\n",
       "      <td>$14.50</td>\n",
       "    </tr>\n",
       "    <tr>\n",
       "      <th>277</th>\n",
       "      <td>8-10-2017</td>\n",
       "      <td>August</td>\n",
       "      <td>Thursday</td>\n",
       "      <td>70.3</td>\n",
       "      <td>0.65</td>\n",
       "      <td>56</td>\n",
       "      <td>0.5</td>\n",
       "      <td>31</td>\n",
       "      <td>$15.50</td>\n",
       "    </tr>\n",
       "    <tr>\n",
       "      <th>278</th>\n",
       "      <td>8-12-2017</td>\n",
       "      <td>August</td>\n",
       "      <td>Saturday</td>\n",
       "      <td>67.7</td>\n",
       "      <td>0.65</td>\n",
       "      <td>43</td>\n",
       "      <td>0.5</td>\n",
       "      <td>29</td>\n",
       "      <td>$14.50</td>\n",
       "    </tr>\n",
       "    <tr>\n",
       "      <th>279</th>\n",
       "      <td>8-13-2017</td>\n",
       "      <td>August</td>\n",
       "      <td>Sunday</td>\n",
       "      <td>67.7</td>\n",
       "      <td>0.65</td>\n",
       "      <td>54</td>\n",
       "      <td>0.5</td>\n",
       "      <td>29</td>\n",
       "      <td>$14.50</td>\n",
       "    </tr>\n",
       "    <tr>\n",
       "      <th>280</th>\n",
       "      <td>8-20-2017</td>\n",
       "      <td>August</td>\n",
       "      <td>Sunday</td>\n",
       "      <td>74.3</td>\n",
       "      <td>0.65</td>\n",
       "      <td>53</td>\n",
       "      <td>0.5</td>\n",
       "      <td>31</td>\n",
       "      <td>$15.50</td>\n",
       "    </tr>\n",
       "    <tr>\n",
       "      <th>281</th>\n",
       "      <td>8-21-2017</td>\n",
       "      <td>August</td>\n",
       "      <td>Monday</td>\n",
       "      <td>68.0</td>\n",
       "      <td>0.65</td>\n",
       "      <td>58</td>\n",
       "      <td>0.5</td>\n",
       "      <td>30</td>\n",
       "      <td>$15.00</td>\n",
       "    </tr>\n",
       "    <tr>\n",
       "      <th>282</th>\n",
       "      <td>8-27-2017</td>\n",
       "      <td>August</td>\n",
       "      <td>Sunday</td>\n",
       "      <td>65.7</td>\n",
       "      <td>0.65</td>\n",
       "      <td>45</td>\n",
       "      <td>0.5</td>\n",
       "      <td>29</td>\n",
       "      <td>$14.50</td>\n",
       "    </tr>\n",
       "    <tr>\n",
       "      <th>283</th>\n",
       "      <td>8-29-2017</td>\n",
       "      <td>August</td>\n",
       "      <td>Tuesday</td>\n",
       "      <td>75.0</td>\n",
       "      <td>0.65</td>\n",
       "      <td>40</td>\n",
       "      <td>0.5</td>\n",
       "      <td>30</td>\n",
       "      <td>$15.00</td>\n",
       "    </tr>\n",
       "    <tr>\n",
       "      <th>292</th>\n",
       "      <td>8-1-2017</td>\n",
       "      <td>August</td>\n",
       "      <td>Tuesday</td>\n",
       "      <td>75.6</td>\n",
       "      <td>0.63</td>\n",
       "      <td>56</td>\n",
       "      <td>0.5</td>\n",
       "      <td>32</td>\n",
       "      <td>$16.00</td>\n",
       "    </tr>\n",
       "    <tr>\n",
       "      <th>293</th>\n",
       "      <td>8-2-2017</td>\n",
       "      <td>August</td>\n",
       "      <td>Wednesday</td>\n",
       "      <td>76.3</td>\n",
       "      <td>0.63</td>\n",
       "      <td>48</td>\n",
       "      <td>0.5</td>\n",
       "      <td>31</td>\n",
       "      <td>$15.50</td>\n",
       "    </tr>\n",
       "    <tr>\n",
       "      <th>294</th>\n",
       "      <td>8-3-2017</td>\n",
       "      <td>August</td>\n",
       "      <td>Thursday</td>\n",
       "      <td>75.0</td>\n",
       "      <td>0.63</td>\n",
       "      <td>52</td>\n",
       "      <td>0.5</td>\n",
       "      <td>30</td>\n",
       "      <td>$15.00</td>\n",
       "    </tr>\n",
       "    <tr>\n",
       "      <th>295</th>\n",
       "      <td>8-9-2017</td>\n",
       "      <td>August</td>\n",
       "      <td>Wednesday</td>\n",
       "      <td>76.6</td>\n",
       "      <td>0.63</td>\n",
       "      <td>55</td>\n",
       "      <td>0.5</td>\n",
       "      <td>32</td>\n",
       "      <td>$16.00</td>\n",
       "    </tr>\n",
       "    <tr>\n",
       "      <th>296</th>\n",
       "      <td>8-15-2017</td>\n",
       "      <td>August</td>\n",
       "      <td>Tuesday</td>\n",
       "      <td>74.3</td>\n",
       "      <td>0.63</td>\n",
       "      <td>44</td>\n",
       "      <td>0.5</td>\n",
       "      <td>31</td>\n",
       "      <td>$15.50</td>\n",
       "    </tr>\n",
       "    <tr>\n",
       "      <th>297</th>\n",
       "      <td>8-16-2017</td>\n",
       "      <td>August</td>\n",
       "      <td>Wednesday</td>\n",
       "      <td>71.0</td>\n",
       "      <td>0.63</td>\n",
       "      <td>49</td>\n",
       "      <td>0.5</td>\n",
       "      <td>30</td>\n",
       "      <td>$15.00</td>\n",
       "    </tr>\n",
       "    <tr>\n",
       "      <th>298</th>\n",
       "      <td>8-22-2017</td>\n",
       "      <td>August</td>\n",
       "      <td>Tuesday</td>\n",
       "      <td>69.0</td>\n",
       "      <td>0.63</td>\n",
       "      <td>55</td>\n",
       "      <td>0.5</td>\n",
       "      <td>30</td>\n",
       "      <td>$15.00</td>\n",
       "    </tr>\n",
       "    <tr>\n",
       "      <th>299</th>\n",
       "      <td>8-25-2017</td>\n",
       "      <td>August</td>\n",
       "      <td>Friday</td>\n",
       "      <td>71.0</td>\n",
       "      <td>0.63</td>\n",
       "      <td>55</td>\n",
       "      <td>0.5</td>\n",
       "      <td>30</td>\n",
       "      <td>$15.00</td>\n",
       "    </tr>\n",
       "    <tr>\n",
       "      <th>300</th>\n",
       "      <td>8-26-2017</td>\n",
       "      <td>August</td>\n",
       "      <td>Saturday</td>\n",
       "      <td>70.0</td>\n",
       "      <td>0.63</td>\n",
       "      <td>46</td>\n",
       "      <td>0.5</td>\n",
       "      <td>30</td>\n",
       "      <td>$15.00</td>\n",
       "    </tr>\n",
       "    <tr>\n",
       "      <th>301</th>\n",
       "      <td>8-28-2017</td>\n",
       "      <td>August</td>\n",
       "      <td>Monday</td>\n",
       "      <td>77.6</td>\n",
       "      <td>0.63</td>\n",
       "      <td>49</td>\n",
       "      <td>0.5</td>\n",
       "      <td>32</td>\n",
       "      <td>$16.00</td>\n",
       "    </tr>\n",
       "    <tr>\n",
       "      <th>302</th>\n",
       "      <td>8-30-2017</td>\n",
       "      <td>August</td>\n",
       "      <td>Wednesday</td>\n",
       "      <td>72.0</td>\n",
       "      <td>0.63</td>\n",
       "      <td>51</td>\n",
       "      <td>0.5</td>\n",
       "      <td>30</td>\n",
       "      <td>$15.00</td>\n",
       "    </tr>\n",
       "    <tr>\n",
       "      <th>308</th>\n",
       "      <td>8-5-2017</td>\n",
       "      <td>August</td>\n",
       "      <td>Saturday</td>\n",
       "      <td>76.6</td>\n",
       "      <td>0.61</td>\n",
       "      <td>66</td>\n",
       "      <td>0.5</td>\n",
       "      <td>32</td>\n",
       "      <td>$16.00</td>\n",
       "    </tr>\n",
       "    <tr>\n",
       "      <th>309</th>\n",
       "      <td>8-6-2017</td>\n",
       "      <td>August</td>\n",
       "      <td>Sunday</td>\n",
       "      <td>77.3</td>\n",
       "      <td>0.61</td>\n",
       "      <td>36</td>\n",
       "      <td>0.5</td>\n",
       "      <td>31</td>\n",
       "      <td>$15.50</td>\n",
       "    </tr>\n",
       "    <tr>\n",
       "      <th>310</th>\n",
       "      <td>8-19-2017</td>\n",
       "      <td>August</td>\n",
       "      <td>Saturday</td>\n",
       "      <td>79.6</td>\n",
       "      <td>0.61</td>\n",
       "      <td>58</td>\n",
       "      <td>0.5</td>\n",
       "      <td>32</td>\n",
       "      <td>$16.00</td>\n",
       "    </tr>\n",
       "    <tr>\n",
       "      <th>321</th>\n",
       "      <td>8-14-2017</td>\n",
       "      <td>August</td>\n",
       "      <td>Monday</td>\n",
       "      <td>72.6</td>\n",
       "      <td>0.59</td>\n",
       "      <td>43</td>\n",
       "      <td>0.5</td>\n",
       "      <td>32</td>\n",
       "      <td>$16.00</td>\n",
       "    </tr>\n",
       "  </tbody>\n",
       "</table>\n",
       "</div>"
      ],
      "text/plain": [
       "          Date   Month        Day  Temperature  Rainfall  Flyers  Price  \\\n",
       "259   8-7-2017  August     Monday         75.0      0.67      38    0.5   \n",
       "260  8-11-2017  August     Friday         75.0      0.67      49    0.5   \n",
       "261  8-17-2017  August   Thursday         68.0      0.67      42    0.5   \n",
       "262  8-23-2017  August  Wednesday         70.7      0.67      33    0.5   \n",
       "276   8-8-2017  August    Tuesday         68.7      0.65      50    0.5   \n",
       "277  8-10-2017  August   Thursday         70.3      0.65      56    0.5   \n",
       "278  8-12-2017  August   Saturday         67.7      0.65      43    0.5   \n",
       "279  8-13-2017  August     Sunday         67.7      0.65      54    0.5   \n",
       "280  8-20-2017  August     Sunday         74.3      0.65      53    0.5   \n",
       "281  8-21-2017  August     Monday         68.0      0.65      58    0.5   \n",
       "282  8-27-2017  August     Sunday         65.7      0.65      45    0.5   \n",
       "283  8-29-2017  August    Tuesday         75.0      0.65      40    0.5   \n",
       "292   8-1-2017  August    Tuesday         75.6      0.63      56    0.5   \n",
       "293   8-2-2017  August  Wednesday         76.3      0.63      48    0.5   \n",
       "294   8-3-2017  August   Thursday         75.0      0.63      52    0.5   \n",
       "295   8-9-2017  August  Wednesday         76.6      0.63      55    0.5   \n",
       "296  8-15-2017  August    Tuesday         74.3      0.63      44    0.5   \n",
       "297  8-16-2017  August  Wednesday         71.0      0.63      49    0.5   \n",
       "298  8-22-2017  August    Tuesday         69.0      0.63      55    0.5   \n",
       "299  8-25-2017  August     Friday         71.0      0.63      55    0.5   \n",
       "300  8-26-2017  August   Saturday         70.0      0.63      46    0.5   \n",
       "301  8-28-2017  August     Monday         77.6      0.63      49    0.5   \n",
       "302  8-30-2017  August  Wednesday         72.0      0.63      51    0.5   \n",
       "308   8-5-2017  August   Saturday         76.6      0.61      66    0.5   \n",
       "309   8-6-2017  August     Sunday         77.3      0.61      36    0.5   \n",
       "310  8-19-2017  August   Saturday         79.6      0.61      58    0.5   \n",
       "321  8-14-2017  August     Monday         72.6      0.59      43    0.5   \n",
       "\n",
       "     Sales  Revenue   \n",
       "259     30   $15.00   \n",
       "260     30   $15.00   \n",
       "261     30   $15.00   \n",
       "262     29   $14.50   \n",
       "276     29   $14.50   \n",
       "277     31   $15.50   \n",
       "278     29   $14.50   \n",
       "279     29   $14.50   \n",
       "280     31   $15.50   \n",
       "281     30   $15.00   \n",
       "282     29   $14.50   \n",
       "283     30   $15.00   \n",
       "292     32   $16.00   \n",
       "293     31   $15.50   \n",
       "294     30   $15.00   \n",
       "295     32   $16.00   \n",
       "296     31   $15.50   \n",
       "297     30   $15.00   \n",
       "298     30   $15.00   \n",
       "299     30   $15.00   \n",
       "300     30   $15.00   \n",
       "301     32   $16.00   \n",
       "302     30   $15.00   \n",
       "308     32   $16.00   \n",
       "309     31   $15.50   \n",
       "310     32   $16.00   \n",
       "321     32   $16.00   "
      ]
     },
     "execution_count": 14,
     "metadata": {},
     "output_type": "execute_result"
    }
   ],
   "source": [
    "August = sliced_data[sliced_data['Month'] == 'August']\n",
    "August"
   ]
  },
  {
   "cell_type": "code",
   "execution_count": 19,
   "metadata": {},
   "outputs": [
    {
     "data": {
      "text/html": [
       "<div>\n",
       "<style>\n",
       "    .dataframe thead tr:only-child th {\n",
       "        text-align: right;\n",
       "    }\n",
       "\n",
       "    .dataframe thead th {\n",
       "        text-align: left;\n",
       "    }\n",
       "\n",
       "    .dataframe tbody tr th {\n",
       "        vertical-align: top;\n",
       "    }\n",
       "</style>\n",
       "<table border=\"1\" class=\"dataframe\">\n",
       "  <thead>\n",
       "    <tr style=\"text-align: right;\">\n",
       "      <th></th>\n",
       "      <th>Temperature</th>\n",
       "      <th>Rainfall</th>\n",
       "      <th>Flyers</th>\n",
       "      <th>Price</th>\n",
       "      <th>Sales</th>\n",
       "    </tr>\n",
       "  </thead>\n",
       "  <tbody>\n",
       "    <tr>\n",
       "      <th>count</th>\n",
       "      <td>27.000000</td>\n",
       "      <td>27.000000</td>\n",
       "      <td>27.000000</td>\n",
       "      <td>27.0</td>\n",
       "      <td>27.000000</td>\n",
       "    </tr>\n",
       "    <tr>\n",
       "      <th>mean</th>\n",
       "      <td>72.614815</td>\n",
       "      <td>0.638148</td>\n",
       "      <td>49.037037</td>\n",
       "      <td>0.5</td>\n",
       "      <td>30.444444</td>\n",
       "    </tr>\n",
       "    <tr>\n",
       "      <th>std</th>\n",
       "      <td>3.756298</td>\n",
       "      <td>0.020198</td>\n",
       "      <td>7.623251</td>\n",
       "      <td>0.0</td>\n",
       "      <td>1.050031</td>\n",
       "    </tr>\n",
       "    <tr>\n",
       "      <th>min</th>\n",
       "      <td>65.700000</td>\n",
       "      <td>0.590000</td>\n",
       "      <td>33.000000</td>\n",
       "      <td>0.5</td>\n",
       "      <td>29.000000</td>\n",
       "    </tr>\n",
       "    <tr>\n",
       "      <th>25%</th>\n",
       "      <td>69.500000</td>\n",
       "      <td>0.630000</td>\n",
       "      <td>43.500000</td>\n",
       "      <td>0.5</td>\n",
       "      <td>30.000000</td>\n",
       "    </tr>\n",
       "    <tr>\n",
       "      <th>50%</th>\n",
       "      <td>72.600000</td>\n",
       "      <td>0.630000</td>\n",
       "      <td>49.000000</td>\n",
       "      <td>0.5</td>\n",
       "      <td>30.000000</td>\n",
       "    </tr>\n",
       "    <tr>\n",
       "      <th>75%</th>\n",
       "      <td>75.300000</td>\n",
       "      <td>0.650000</td>\n",
       "      <td>55.000000</td>\n",
       "      <td>0.5</td>\n",
       "      <td>31.000000</td>\n",
       "    </tr>\n",
       "    <tr>\n",
       "      <th>max</th>\n",
       "      <td>79.600000</td>\n",
       "      <td>0.670000</td>\n",
       "      <td>66.000000</td>\n",
       "      <td>0.5</td>\n",
       "      <td>32.000000</td>\n",
       "    </tr>\n",
       "  </tbody>\n",
       "</table>\n",
       "</div>"
      ],
      "text/plain": [
       "       Temperature   Rainfall     Flyers  Price      Sales\n",
       "count    27.000000  27.000000  27.000000   27.0  27.000000\n",
       "mean     72.614815   0.638148  49.037037    0.5  30.444444\n",
       "std       3.756298   0.020198   7.623251    0.0   1.050031\n",
       "min      65.700000   0.590000  33.000000    0.5  29.000000\n",
       "25%      69.500000   0.630000  43.500000    0.5  30.000000\n",
       "50%      72.600000   0.630000  49.000000    0.5  30.000000\n",
       "75%      75.300000   0.650000  55.000000    0.5  31.000000\n",
       "max      79.600000   0.670000  66.000000    0.5  32.000000"
      ]
     },
     "execution_count": 19,
     "metadata": {},
     "output_type": "execute_result"
    }
   ],
   "source": [
    "August.describe()"
   ]
  },
  {
   "cell_type": "markdown",
   "metadata": {
    "collapsed": true
   },
   "source": [
    "## Day 10"
   ]
  },
  {
   "cell_type": "code",
   "execution_count": 2,
   "metadata": {},
   "outputs": [],
   "source": [
    "import matplotlib.pyplot as plt"
   ]
  },
  {
   "cell_type": "code",
   "execution_count": 3,
   "metadata": {
    "collapsed": true
   },
   "outputs": [],
   "source": [
    "x = [1, 2, 3, 4, 5, 6, 7, 8, 9, 10]\n",
    "y = [1, 4, 9, 16, 25, 36, 49, 64, 81, 100]"
   ]
  },
  {
   "cell_type": "code",
   "execution_count": 4,
   "metadata": {},
   "outputs": [
    {
     "data": {
      "image/png": "[encoded data removed]",
      "text/plain": [
       "<matplotlib.figure.Figure at 0x7fec2088e208>"
      ]
     },
     "metadata": {},
     "output_type": "display_data"
    }
   ],
   "source": [
    "plt.plot(x, y)\n",
    "plt.xlabel('X Values')\n",
    "plt.ylabel('X Squared')\n",
    "plt.title('A graph of squares')\n",
    "plt.show()"
   ]
  },
  {
   "cell_type": "code",
   "execution_count": 8,
   "metadata": {},
   "outputs": [
    {
     "data": {
      "image/png": "[encoded data removed]",
      "text/plain": [
       "<matplotlib.figure.Figure at 0x7fec203cac50>"
      ]
     },
     "metadata": {},
     "output_type": "display_data"
    }
   ],
   "source": [
    "x = [1, 2, 3, 4]\n",
    "y = [1, 4, 9, 16]\n",
    "\n",
    "plt.plot(x, y, 'bo')\n",
    "plt.axis([0,6,0,20])\n",
    "plt.show()"
   ]
  },
  {
   "cell_type": "code",
   "execution_count": 9,
   "metadata": {
    "collapsed": true
   },
   "outputs": [],
   "source": [
    "import numpy as np"
   ]
  },
  {
   "cell_type": "code",
   "execution_count": 10,
   "metadata": {
    "collapsed": true
   },
   "outputs": [],
   "source": [
    "np.random.seed(7)"
   ]
  },
  {
   "cell_type": "code",
   "execution_count": 11,
   "metadata": {
    "collapsed": true
   },
   "outputs": [],
   "source": [
    "n_points = 100000\n",
    "n_bins = 30"
   ]
  },
  {
   "cell_type": "code",
   "execution_count": 12,
   "metadata": {},
   "outputs": [
    {
     "data": {
      "image/png": "[encoded data removed]",
      "text/plain": [
       "<matplotlib.figure.Figure at 0x7fec1bf30390>"
      ]
     },
     "metadata": {},
     "output_type": "display_data"
    }
   ],
   "source": [
    "x = np.random.randn(n_points)\n",
    "plt.hist(x, bins=n_bins)\n",
    "plt.ylabel('Num of Occurances')\n",
    "plt.show()"
   ]
  },
  {
   "cell_type": "code",
   "execution_count": null,
   "metadata": {},
   "outputs": [],
   "source": []
  },
  {
   "cell_type": "code",
   "execution_count": null,
   "metadata": {
    "collapsed": true
   },
   "outputs": [],
   "source": []
  }
 ],
 "metadata": {
  "kernelspec": {
   "display_name": "Python 3",
   "language": "python",
   "name": "python3"
  },
  "language_info": {
   "codemirror_mode": {
    "name": "ipython",
    "version": 3
   },
   "file_extension": ".py",
   "mimetype": "text/x-python",
   "name": "python",
   "nbconvert_exporter": "python",
   "pygments_lexer": "ipython3",
   "version": "3.6.3"
  }
 },
 "nbformat": 4,
 "nbformat_minor": 2
}
