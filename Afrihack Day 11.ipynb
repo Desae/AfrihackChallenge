{
 "cells": [
  {
   "cell_type": "markdown",
   "metadata": {},
   "source": [
    "## Day 11"
   ]
  },
  {
   "cell_type": "code",
   "execution_count": 2,
   "metadata": {
    "collapsed": true
   },
   "outputs": [],
   "source": [
    "# all imports\n",
    "import pandas as pd\n",
    "import numpy as np\n",
    "import matplotlib.pyplot as plt"
   ]
  },
  {
   "cell_type": "code",
   "execution_count": 3,
   "metadata": {
    "collapsed": true
   },
   "outputs": [],
   "source": [
    "%matplotlib inline\n",
    "plt.style.use('ggplot')"
   ]
  },
  {
   "cell_type": "code",
   "execution_count": 4,
   "metadata": {},
   "outputs": [
    {
     "data": {
      "text/html": [
       "<div>\n",
       "<style>\n",
       "    .dataframe thead tr:only-child th {\n",
       "        text-align: right;\n",
       "    }\n",
       "\n",
       "    .dataframe thead th {\n",
       "        text-align: left;\n",
       "    }\n",
       "\n",
       "    .dataframe tbody tr th {\n",
       "        vertical-align: top;\n",
       "    }\n",
       "</style>\n",
       "<table border=\"1\" class=\"dataframe\">\n",
       "  <thead>\n",
       "    <tr style=\"text-align: right;\">\n",
       "      <th></th>\n",
       "      <th>Region</th>\n",
       "      <th>District</th>\n",
       "      <th>FacilityName</th>\n",
       "      <th>Type</th>\n",
       "      <th>Town</th>\n",
       "      <th>Ownership</th>\n",
       "      <th>Latitude</th>\n",
       "      <th>Longitude</th>\n",
       "    </tr>\n",
       "  </thead>\n",
       "  <tbody>\n",
       "    <tr>\n",
       "      <th>0</th>\n",
       "      <td>Ashanti</td>\n",
       "      <td>Offinso North</td>\n",
       "      <td>A.M.E Zion Clinic</td>\n",
       "      <td>Clinic</td>\n",
       "      <td>Afrancho</td>\n",
       "      <td>CHAG</td>\n",
       "      <td>7.40801</td>\n",
       "      <td>-1.96317</td>\n",
       "    </tr>\n",
       "    <tr>\n",
       "      <th>1</th>\n",
       "      <td>Ashanti</td>\n",
       "      <td>Bekwai Municipal</td>\n",
       "      <td>Abenkyiman Clinic</td>\n",
       "      <td>Clinic</td>\n",
       "      <td>Anwiankwanta</td>\n",
       "      <td>Private</td>\n",
       "      <td>6.46312</td>\n",
       "      <td>-1.58592</td>\n",
       "    </tr>\n",
       "    <tr>\n",
       "      <th>2</th>\n",
       "      <td>Ashanti</td>\n",
       "      <td>Adansi North</td>\n",
       "      <td>Aboabo Health Centre</td>\n",
       "      <td>Health Centre</td>\n",
       "      <td>Aboabo No 2</td>\n",
       "      <td>Government</td>\n",
       "      <td>6.22393</td>\n",
       "      <td>-1.34982</td>\n",
       "    </tr>\n",
       "    <tr>\n",
       "      <th>3</th>\n",
       "      <td>Ashanti</td>\n",
       "      <td>Afigya-Kwabre</td>\n",
       "      <td>Aboabogya Health Centre</td>\n",
       "      <td>Health Centre</td>\n",
       "      <td>Aboabogya</td>\n",
       "      <td>Government</td>\n",
       "      <td>6.84177</td>\n",
       "      <td>-1.61098</td>\n",
       "    </tr>\n",
       "    <tr>\n",
       "      <th>4</th>\n",
       "      <td>Ashanti</td>\n",
       "      <td>Kwabre</td>\n",
       "      <td>Aboaso Health Centre</td>\n",
       "      <td>Health Centre</td>\n",
       "      <td>Aboaso</td>\n",
       "      <td>Government</td>\n",
       "      <td>6.84177</td>\n",
       "      <td>-1.61098</td>\n",
       "    </tr>\n",
       "    <tr>\n",
       "      <th>5</th>\n",
       "      <td>Ashanti</td>\n",
       "      <td>Offinso North</td>\n",
       "      <td>Aboffour Health Centre</td>\n",
       "      <td>Health Centre</td>\n",
       "      <td>Aboffour</td>\n",
       "      <td>Government</td>\n",
       "      <td>7.12986</td>\n",
       "      <td>-1.73294</td>\n",
       "    </tr>\n",
       "    <tr>\n",
       "      <th>6</th>\n",
       "      <td>Ashanti</td>\n",
       "      <td>Atwima-Nwabiagya</td>\n",
       "      <td>Abuakwa Maternity Home</td>\n",
       "      <td>Maternity Home</td>\n",
       "      <td>Abuakwa</td>\n",
       "      <td>Private</td>\n",
       "      <td>7.00000</td>\n",
       "      <td>-2.00000</td>\n",
       "    </tr>\n",
       "    <tr>\n",
       "      <th>7</th>\n",
       "      <td>Ashanti</td>\n",
       "      <td>Atwima-Kwanwoma</td>\n",
       "      <td>Aburaso Methodist clinic</td>\n",
       "      <td>Clinic</td>\n",
       "      <td>Aburaso</td>\n",
       "      <td>CHAG</td>\n",
       "      <td>6.66133</td>\n",
       "      <td>-1.67662</td>\n",
       "    </tr>\n",
       "    <tr>\n",
       "      <th>8</th>\n",
       "      <td>Ashanti</td>\n",
       "      <td>Ejisu-Juaben Municipal</td>\n",
       "      <td>Achiase Health Centre</td>\n",
       "      <td>Health Centre</td>\n",
       "      <td>Achiase</td>\n",
       "      <td>Government</td>\n",
       "      <td>6.45543</td>\n",
       "      <td>-1.31004</td>\n",
       "    </tr>\n",
       "    <tr>\n",
       "      <th>9</th>\n",
       "      <td>Ashanti</td>\n",
       "      <td>Mampong Municipal</td>\n",
       "      <td>Adidwan Health Centre</td>\n",
       "      <td>Health Centre</td>\n",
       "      <td>Adidwan</td>\n",
       "      <td>Government</td>\n",
       "      <td>7.25163</td>\n",
       "      <td>-1.40278</td>\n",
       "    </tr>\n",
       "  </tbody>\n",
       "</table>\n",
       "</div>"
      ],
      "text/plain": [
       "    Region                District              FacilityName            Type  \\\n",
       "0  Ashanti           Offinso North         A.M.E Zion Clinic          Clinic   \n",
       "1  Ashanti        Bekwai Municipal         Abenkyiman Clinic          Clinic   \n",
       "2  Ashanti            Adansi North      Aboabo Health Centre   Health Centre   \n",
       "3  Ashanti           Afigya-Kwabre   Aboabogya Health Centre   Health Centre   \n",
       "4  Ashanti                  Kwabre      Aboaso Health Centre   Health Centre   \n",
       "5  Ashanti           Offinso North    Aboffour Health Centre   Health Centre   \n",
       "6  Ashanti        Atwima-Nwabiagya    Abuakwa Maternity Home  Maternity Home   \n",
       "7  Ashanti         Atwima-Kwanwoma  Aburaso Methodist clinic          Clinic   \n",
       "8  Ashanti  Ejisu-Juaben Municipal     Achiase Health Centre   Health Centre   \n",
       "9  Ashanti       Mampong Municipal     Adidwan Health Centre   Health Centre   \n",
       "\n",
       "           Town   Ownership  Latitude  Longitude  \n",
       "0      Afrancho        CHAG   7.40801   -1.96317  \n",
       "1  Anwiankwanta     Private   6.46312   -1.58592  \n",
       "2   Aboabo No 2  Government   6.22393   -1.34982  \n",
       "3     Aboabogya  Government   6.84177   -1.61098  \n",
       "4        Aboaso  Government   6.84177   -1.61098  \n",
       "5      Aboffour  Government   7.12986   -1.73294  \n",
       "6       Abuakwa     Private   7.00000   -2.00000  \n",
       "7       Aburaso        CHAG   6.66133   -1.67662  \n",
       "8       Achiase  Government   6.45543   -1.31004  \n",
       "9       Adidwan  Government   7.25163   -1.40278  "
      ]
     },
     "execution_count": 4,
     "metadata": {},
     "output_type": "execute_result"
    }
   ],
   "source": [
    "# reading in first dataset\n",
    "df1 = pd.read_csv('./GhanaHealth/health-facilities-gh.csv')\n",
    "df1.head(10)"
   ]
  },
  {
   "cell_type": "code",
   "execution_count": 5,
   "metadata": {},
   "outputs": [
    {
     "data": {
      "text/plain": [
       "(3756, 8)"
      ]
     },
     "execution_count": 5,
     "metadata": {},
     "output_type": "execute_result"
    }
   ],
   "source": [
    "# number of rows and columns of dataset\n",
    "df1.shape"
   ]
  },
  {
   "cell_type": "code",
   "execution_count": 6,
   "metadata": {},
   "outputs": [
    {
     "data": {
      "text/html": [
       "<div>\n",
       "<style>\n",
       "    .dataframe thead tr:only-child th {\n",
       "        text-align: right;\n",
       "    }\n",
       "\n",
       "    .dataframe thead th {\n",
       "        text-align: left;\n",
       "    }\n",
       "\n",
       "    .dataframe tbody tr th {\n",
       "        vertical-align: top;\n",
       "    }\n",
       "</style>\n",
       "<table border=\"1\" class=\"dataframe\">\n",
       "  <thead>\n",
       "    <tr style=\"text-align: right;\">\n",
       "      <th></th>\n",
       "      <th>Region</th>\n",
       "      <th>District</th>\n",
       "      <th>FacilityName</th>\n",
       "      <th>Type</th>\n",
       "      <th>Town</th>\n",
       "      <th>Ownership</th>\n",
       "    </tr>\n",
       "  </thead>\n",
       "  <tbody>\n",
       "    <tr>\n",
       "      <th>count</th>\n",
       "      <td>3756</td>\n",
       "      <td>3756</td>\n",
       "      <td>3756</td>\n",
       "      <td>3756</td>\n",
       "      <td>3603</td>\n",
       "      <td>3756</td>\n",
       "    </tr>\n",
       "    <tr>\n",
       "      <th>unique</th>\n",
       "      <td>10</td>\n",
       "      <td>171</td>\n",
       "      <td>3544</td>\n",
       "      <td>25</td>\n",
       "      <td>2446</td>\n",
       "      <td>12</td>\n",
       "    </tr>\n",
       "    <tr>\n",
       "      <th>top</th>\n",
       "      <td>Ashanti</td>\n",
       "      <td>Accra Metropolitan</td>\n",
       "      <td>Rabito Clinic</td>\n",
       "      <td>Clinic</td>\n",
       "      <td>Sunyani</td>\n",
       "      <td>Government</td>\n",
       "    </tr>\n",
       "    <tr>\n",
       "      <th>freq</th>\n",
       "      <td>658</td>\n",
       "      <td>277</td>\n",
       "      <td>11</td>\n",
       "      <td>1171</td>\n",
       "      <td>29</td>\n",
       "      <td>2210</td>\n",
       "    </tr>\n",
       "  </tbody>\n",
       "</table>\n",
       "</div>"
      ],
      "text/plain": [
       "         Region            District   FacilityName    Type     Town  \\\n",
       "count      3756                3756           3756    3756     3603   \n",
       "unique       10                 171           3544      25     2446   \n",
       "top     Ashanti  Accra Metropolitan  Rabito Clinic  Clinic  Sunyani   \n",
       "freq        658                 277             11    1171       29   \n",
       "\n",
       "         Ownership  \n",
       "count         3756  \n",
       "unique          12  \n",
       "top     Government  \n",
       "freq          2210  "
      ]
     },
     "execution_count": 6,
     "metadata": {},
     "output_type": "execute_result"
    }
   ],
   "source": [
    "# summary statistics of categorical variables\n",
    "df1.describe(exclude=[np.number])"
   ]
  },
  {
   "cell_type": "markdown",
   "metadata": {},
   "source": [
    "## Number of Health Facilities in each Region of Ghana"
   ]
  },
  {
   "cell_type": "code",
   "execution_count": 7,
   "metadata": {},
   "outputs": [
    {
     "data": {
      "text/plain": [
       "Ashanti          658\n",
       "Greater Accra    504\n",
       "Western          496\n",
       "Volta            398\n",
       "Eastern          393\n",
       "Brong Ahafo      348\n",
       "Central          299\n",
       "Northern         267\n",
       "Upper East       232\n",
       "Upper West       161\n",
       "Name: Region, dtype: int64"
      ]
     },
     "execution_count": 7,
     "metadata": {},
     "output_type": "execute_result"
    }
   ],
   "source": [
    "facility_counts = df1['Region'].value_counts()\n",
    "facility_counts"
   ]
  },
  {
   "cell_type": "code",
   "execution_count": 8,
   "metadata": {
    "collapsed": true
   },
   "outputs": [],
   "source": [
    "x = facility_counts.index\n",
    "x_height = facility_counts.values"
   ]
  },
  {
   "cell_type": "code",
   "execution_count": 52,
   "metadata": {},
   "outputs": [
    {
     "data": {
      "image/png": "[encoded data removed]",
      "text/plain": [
       "<matplotlib.figure.Figure at 0x7fb2b250fc88>"
      ]
     },
     "metadata": {},
     "output_type": "display_data"
    }
   ],
   "source": [
    "## Bar graph showing breakdown of health facilities in Ghana\n",
    "\n",
    "plt.barh(x, x_height, color='blue')\n",
    "plt.xlabel('No. of Health Facilities', fontsize=15)\n",
    "plt.ylabel('Regions', fontsize=15)\n",
    "plt.title('Breakdown of the number of Health Facilities in the different regions of Ghana')\n",
    "plt.show()"
   ]
  },
  {
   "cell_type": "markdown",
   "metadata": {},
   "source": [
    "## Types of Health Facilities in Ghana"
   ]
  },
  {
   "cell_type": "code",
   "execution_count": 14,
   "metadata": {},
   "outputs": [],
   "source": [
    "#converting all values in Type column to lowercase\n",
    "df1['Type'] = df1['Type'].str.lower() "
   ]
  },
  {
   "cell_type": "code",
   "execution_count": 20,
   "metadata": {},
   "outputs": [],
   "source": [
    "#putting the different types of hospitals together\n",
    "for i in range(len(df1)):  \n",
    "    if 'hospital' in df1['Type'].iloc[i]:\n",
    "        df1.loc[i, 'Type'] = 'hospital'\n",
    "\n"
   ]
  },
  {
   "cell_type": "code",
   "execution_count": 24,
   "metadata": {
    "collapsed": true
   },
   "outputs": [],
   "source": [
    "#putting the different types of directorates together\n",
    "for i in range(len(df1)):  \n",
    "    if 'health directorate' in df1['Type'].iloc[i]:\n",
    "        df1.loc[i, 'Type'] = 'health directorate'"
   ]
  },
  {
   "cell_type": "code",
   "execution_count": 32,
   "metadata": {},
   "outputs": [
    {
     "data": {
      "text/plain": [
       "clinic                  1173\n",
       "health centre            786\n",
       "chps                     652\n",
       "hospital                 379\n",
       "maternity home           369\n",
       "rch                      152\n",
       "health directorate       118\n",
       "training institution      74\n",
       "others                    31\n",
       "polyclinic                16\n",
       "research institution       2\n",
       "centre                     2\n",
       "cphs                       1\n",
       "dhd                        1\n",
       "Name: Type, dtype: int64"
      ]
     },
     "execution_count": 32,
     "metadata": {},
     "output_type": "execute_result"
    }
   ],
   "source": [
    "facility_types_counts = df1['Type'].value_counts()\n",
    "facility_types_counts"
   ]
  },
  {
   "cell_type": "code",
   "execution_count": 33,
   "metadata": {
    "collapsed": true
   },
   "outputs": [],
   "source": [
    "y = facility_types_counts.index\n",
    "y_height = facility_types_counts.values"
   ]
  },
  {
   "cell_type": "code",
   "execution_count": 53,
   "metadata": {},
   "outputs": [
    {
     "data": {
      "image/png": "[encoded data removed]",
      "text/plain": [
       "<matplotlib.figure.Figure at 0x7fb2b25162b0>"
      ]
     },
     "metadata": {},
     "output_type": "display_data"
    }
   ],
   "source": [
    "## Bar graph showing breakdown of health facilities in Ghana\n",
    "plt.barh(y, y_height, color='blue')\n",
    "plt.xlabel('No. of Health Facilities', fontsize=15)\n",
    "plt.ylabel('Facility Type', fontsize=15)\n",
    "plt.title('Statistics on Health Facilities in Ghana')\n",
    "plt.show()"
   ]
  },
  {
   "cell_type": "markdown",
   "metadata": {},
   "source": [
    "**Comment: There are more clinics in Ghana than any other type of health facility.**"
   ]
  },
  {
   "cell_type": "markdown",
   "metadata": {},
   "source": [
    "# Dataset 2"
   ]
  },
  {
   "cell_type": "code",
   "execution_count": 35,
   "metadata": {},
   "outputs": [
    {
     "data": {
      "text/html": [
       "<div>\n",
       "<style>\n",
       "    .dataframe thead tr:only-child th {\n",
       "        text-align: right;\n",
       "    }\n",
       "\n",
       "    .dataframe thead th {\n",
       "        text-align: left;\n",
       "    }\n",
       "\n",
       "    .dataframe tbody tr th {\n",
       "        vertical-align: top;\n",
       "    }\n",
       "</style>\n",
       "<table border=\"1\" class=\"dataframe\">\n",
       "  <thead>\n",
       "    <tr style=\"text-align: right;\">\n",
       "      <th></th>\n",
       "      <th>Region</th>\n",
       "      <th>Facility</th>\n",
       "      <th>Tier</th>\n",
       "    </tr>\n",
       "  </thead>\n",
       "  <tbody>\n",
       "    <tr>\n",
       "      <th>0</th>\n",
       "      <td>Ashanti</td>\n",
       "      <td>PEACE AND LOVE HOSPITAL</td>\n",
       "      <td>2</td>\n",
       "    </tr>\n",
       "    <tr>\n",
       "      <th>1</th>\n",
       "      <td>Ashanti</td>\n",
       "      <td>TODAH HOSPITAL</td>\n",
       "      <td>2</td>\n",
       "    </tr>\n",
       "    <tr>\n",
       "      <th>2</th>\n",
       "      <td>Ashanti</td>\n",
       "      <td>ASOKWA CHILREN'S HOSPITAL</td>\n",
       "      <td>2</td>\n",
       "    </tr>\n",
       "    <tr>\n",
       "      <th>3</th>\n",
       "      <td>Ashanti</td>\n",
       "      <td>FANKYEBEBRA HOSPITAL</td>\n",
       "      <td>2</td>\n",
       "    </tr>\n",
       "    <tr>\n",
       "      <th>4</th>\n",
       "      <td>Ashanti</td>\n",
       "      <td>MICHMIT HOSPITAL</td>\n",
       "      <td>2</td>\n",
       "    </tr>\n",
       "    <tr>\n",
       "      <th>5</th>\n",
       "      <td>Ashanti</td>\n",
       "      <td>SABS HOSPITAL</td>\n",
       "      <td>2</td>\n",
       "    </tr>\n",
       "    <tr>\n",
       "      <th>6</th>\n",
       "      <td>Ashanti</td>\n",
       "      <td>SARFO ADU MEMORIAL HOSPITAL</td>\n",
       "      <td>2</td>\n",
       "    </tr>\n",
       "    <tr>\n",
       "      <th>7</th>\n",
       "      <td>Ashanti</td>\n",
       "      <td>CITY HOSPITAL</td>\n",
       "      <td>2</td>\n",
       "    </tr>\n",
       "    <tr>\n",
       "      <th>8</th>\n",
       "      <td>Ashanti</td>\n",
       "      <td>AYUSH MEMORIAL HOSPITAL LTD</td>\n",
       "      <td>2</td>\n",
       "    </tr>\n",
       "    <tr>\n",
       "      <th>9</th>\n",
       "      <td>Ashanti</td>\n",
       "      <td>ROYAL PLACE HOSPITAL</td>\n",
       "      <td>2</td>\n",
       "    </tr>\n",
       "  </tbody>\n",
       "</table>\n",
       "</div>"
      ],
      "text/plain": [
       "    Region                     Facility  Tier\n",
       "0  Ashanti      PEACE AND LOVE HOSPITAL     2\n",
       "1  Ashanti               TODAH HOSPITAL     2\n",
       "2  Ashanti    ASOKWA CHILREN'S HOSPITAL     2\n",
       "3  Ashanti         FANKYEBEBRA HOSPITAL     2\n",
       "4  Ashanti             MICHMIT HOSPITAL     2\n",
       "5  Ashanti                SABS HOSPITAL     2\n",
       "6  Ashanti  SARFO ADU MEMORIAL HOSPITAL     2\n",
       "7  Ashanti                CITY HOSPITAL     2\n",
       "8  Ashanti  AYUSH MEMORIAL HOSPITAL LTD     2\n",
       "9  Ashanti         ROYAL PLACE HOSPITAL     2"
      ]
     },
     "execution_count": 35,
     "metadata": {},
     "output_type": "execute_result"
    }
   ],
   "source": [
    "# reading in dataset\n",
    "df2 = pd.read_csv('./GhanaHealth/health-facility-tiers.csv')\n",
    "df2.head(10)"
   ]
  },
  {
   "cell_type": "code",
   "execution_count": 18,
   "metadata": {},
   "outputs": [
    {
     "data": {
      "text/plain": [
       "(1475, 3)"
      ]
     },
     "execution_count": 18,
     "metadata": {},
     "output_type": "execute_result"
    }
   ],
   "source": [
    "# finding number of rows and columns in this dataset\n",
    "df2.shape"
   ]
  },
  {
   "cell_type": "code",
   "execution_count": 42,
   "metadata": {},
   "outputs": [
    {
     "data": {
      "text/plain": [
       "Region      object\n",
       "Facility    object\n",
       "Tier         int64\n",
       "dtype: object"
      ]
     },
     "execution_count": 42,
     "metadata": {},
     "output_type": "execute_result"
    }
   ],
   "source": [
    "df2.dtypes"
   ]
  },
  {
   "cell_type": "code",
   "execution_count": 47,
   "metadata": {},
   "outputs": [
    {
     "data": {
      "text/html": [
       "<div>\n",
       "<style>\n",
       "    .dataframe thead tr:only-child th {\n",
       "        text-align: right;\n",
       "    }\n",
       "\n",
       "    .dataframe thead th {\n",
       "        text-align: left;\n",
       "    }\n",
       "\n",
       "    .dataframe tbody tr th {\n",
       "        vertical-align: top;\n",
       "    }\n",
       "</style>\n",
       "<table border=\"1\" class=\"dataframe\">\n",
       "  <thead>\n",
       "    <tr style=\"text-align: right;\">\n",
       "      <th></th>\n",
       "      <th>Region</th>\n",
       "      <th>Facility</th>\n",
       "    </tr>\n",
       "  </thead>\n",
       "  <tbody>\n",
       "    <tr>\n",
       "      <th>count</th>\n",
       "      <td>1475</td>\n",
       "      <td>1475</td>\n",
       "    </tr>\n",
       "    <tr>\n",
       "      <th>unique</th>\n",
       "      <td>10</td>\n",
       "      <td>1446</td>\n",
       "    </tr>\n",
       "    <tr>\n",
       "      <th>top</th>\n",
       "      <td>Greater Accra</td>\n",
       "      <td>MARIE STOPES INTERNATIONAL</td>\n",
       "    </tr>\n",
       "    <tr>\n",
       "      <th>freq</th>\n",
       "      <td>533</td>\n",
       "      <td>3</td>\n",
       "    </tr>\n",
       "  </tbody>\n",
       "</table>\n",
       "</div>"
      ],
      "text/plain": [
       "               Region                    Facility\n",
       "count            1475                        1475\n",
       "unique             10                        1446\n",
       "top     Greater Accra  MARIE STOPES INTERNATIONAL\n",
       "freq              533                           3"
      ]
     },
     "execution_count": 47,
     "metadata": {},
     "output_type": "execute_result"
    }
   ],
   "source": [
    "# summary statistics of categorical variables\n",
    "df2.describe(exclude=[np.number])"
   ]
  },
  {
   "cell_type": "markdown",
   "metadata": {},
   "source": [
    "### Grouping dataset by Region and Tier"
   ]
  },
  {
   "cell_type": "code",
   "execution_count": 48,
   "metadata": {},
   "outputs": [
    {
     "data": {
      "text/html": [
       "<div>\n",
       "<style>\n",
       "    .dataframe thead tr:only-child th {\n",
       "        text-align: right;\n",
       "    }\n",
       "\n",
       "    .dataframe thead th {\n",
       "        text-align: left;\n",
       "    }\n",
       "\n",
       "    .dataframe tbody tr th {\n",
       "        vertical-align: top;\n",
       "    }\n",
       "</style>\n",
       "<table border=\"1\" class=\"dataframe\">\n",
       "  <thead>\n",
       "    <tr style=\"text-align: right;\">\n",
       "      <th></th>\n",
       "      <th></th>\n",
       "      <th>Facility</th>\n",
       "    </tr>\n",
       "    <tr>\n",
       "      <th>Region</th>\n",
       "      <th>Tier</th>\n",
       "      <th></th>\n",
       "    </tr>\n",
       "  </thead>\n",
       "  <tbody>\n",
       "    <tr>\n",
       "      <th rowspan=\"2\" valign=\"top\">Ashanti</th>\n",
       "      <th>2</th>\n",
       "      <td>89</td>\n",
       "    </tr>\n",
       "    <tr>\n",
       "      <th>3</th>\n",
       "      <td>228</td>\n",
       "    </tr>\n",
       "    <tr>\n",
       "      <th rowspan=\"2\" valign=\"top\">Brong Ahafo</th>\n",
       "      <th>2</th>\n",
       "      <td>29</td>\n",
       "    </tr>\n",
       "    <tr>\n",
       "      <th>3</th>\n",
       "      <td>78</td>\n",
       "    </tr>\n",
       "    <tr>\n",
       "      <th rowspan=\"2\" valign=\"top\">Central</th>\n",
       "      <th>2</th>\n",
       "      <td>13</td>\n",
       "    </tr>\n",
       "    <tr>\n",
       "      <th>3</th>\n",
       "      <td>87</td>\n",
       "    </tr>\n",
       "    <tr>\n",
       "      <th rowspan=\"2\" valign=\"top\">Eastern</th>\n",
       "      <th>2</th>\n",
       "      <td>16</td>\n",
       "    </tr>\n",
       "    <tr>\n",
       "      <th>3</th>\n",
       "      <td>75</td>\n",
       "    </tr>\n",
       "    <tr>\n",
       "      <th rowspan=\"2\" valign=\"top\">Greater Accra</th>\n",
       "      <th>2</th>\n",
       "      <td>80</td>\n",
       "    </tr>\n",
       "    <tr>\n",
       "      <th>3</th>\n",
       "      <td>453</td>\n",
       "    </tr>\n",
       "    <tr>\n",
       "      <th rowspan=\"2\" valign=\"top\">Northern</th>\n",
       "      <th>2</th>\n",
       "      <td>6</td>\n",
       "    </tr>\n",
       "    <tr>\n",
       "      <th>3</th>\n",
       "      <td>38</td>\n",
       "    </tr>\n",
       "    <tr>\n",
       "      <th rowspan=\"2\" valign=\"top\">Upper East</th>\n",
       "      <th>2</th>\n",
       "      <td>3</td>\n",
       "    </tr>\n",
       "    <tr>\n",
       "      <th>3</th>\n",
       "      <td>37</td>\n",
       "    </tr>\n",
       "    <tr>\n",
       "      <th rowspan=\"2\" valign=\"top\">Upper West</th>\n",
       "      <th>2</th>\n",
       "      <td>3</td>\n",
       "    </tr>\n",
       "    <tr>\n",
       "      <th>3</th>\n",
       "      <td>33</td>\n",
       "    </tr>\n",
       "    <tr>\n",
       "      <th rowspan=\"2\" valign=\"top\">Volta</th>\n",
       "      <th>2</th>\n",
       "      <td>7</td>\n",
       "    </tr>\n",
       "    <tr>\n",
       "      <th>3</th>\n",
       "      <td>48</td>\n",
       "    </tr>\n",
       "    <tr>\n",
       "      <th rowspan=\"2\" valign=\"top\">Western</th>\n",
       "      <th>2</th>\n",
       "      <td>22</td>\n",
       "    </tr>\n",
       "    <tr>\n",
       "      <th>3</th>\n",
       "      <td>130</td>\n",
       "    </tr>\n",
       "  </tbody>\n",
       "</table>\n",
       "</div>"
      ],
      "text/plain": [
       "                    Facility\n",
       "Region        Tier          \n",
       "Ashanti       2           89\n",
       "              3          228\n",
       "Brong Ahafo   2           29\n",
       "              3           78\n",
       "Central       2           13\n",
       "              3           87\n",
       "Eastern       2           16\n",
       "              3           75\n",
       "Greater Accra 2           80\n",
       "              3          453\n",
       "Northern      2            6\n",
       "              3           38\n",
       "Upper East    2            3\n",
       "              3           37\n",
       "Upper West    2            3\n",
       "              3           33\n",
       "Volta         2            7\n",
       "              3           48\n",
       "Western       2           22\n",
       "              3          130"
      ]
     },
     "execution_count": 48,
     "metadata": {},
     "output_type": "execute_result"
    }
   ],
   "source": [
    "tier_counts = df2.groupby(['Region','Tier']).count()\n",
    "tier_counts"
   ]
  },
  {
   "cell_type": "code",
   "execution_count": 49,
   "metadata": {
    "collapsed": true
   },
   "outputs": [],
   "source": [
    "#placing tier 2 & 3 data into tuples\n",
    "twos_array = tuple(tier_counts.iloc[i]['Facility'] for i in range(0,len(tier_counts),2))\n",
    "threes_array = tuple(tier_counts.iloc[i]['Facility'] for i in range(1,len(tier_counts),2))"
   ]
  },
  {
   "cell_type": "code",
   "execution_count": 50,
   "metadata": {},
   "outputs": [
    {
     "data": {
      "text/plain": [
       "('Ashanti',\n",
       " 'Brong Ahafo',\n",
       " 'Central',\n",
       " 'Eastern',\n",
       " 'Greater Accra',\n",
       " 'Northern',\n",
       " 'Upper East',\n",
       " 'Upper West',\n",
       " 'Volta',\n",
       " 'Western')"
      ]
     },
     "execution_count": 50,
     "metadata": {},
     "output_type": "execute_result"
    }
   ],
   "source": [
    "# unique region names\n",
    "region_names = tuple(df1['Region'].unique())\n",
    "region_names"
   ]
  },
  {
   "cell_type": "code",
   "execution_count": 54,
   "metadata": {},
   "outputs": [
    {
     "data": {
      "image/png": "[encoded data removed]",
      "text/plain": [
       "<matplotlib.figure.Figure at 0x7fb2aab577b8>"
      ]
     },
     "metadata": {},
     "output_type": "display_data"
    }
   ],
   "source": [
    "# Visualizing data\n",
    "N = 10\n",
    "arr1 = twos_array\n",
    "arr2 = threes_array\n",
    "\n",
    "ind = np.arange(N) \n",
    "width = 0.35       \n",
    "plt.barh(ind, arr1, width, label='T2')\n",
    "plt.barh(ind + width, arr2, width,\n",
    "    label='T3')\n",
    "\n",
    "plt.xlabel('Counts')\n",
    "plt.ylabel('Regions')\n",
    "plt.title('Statistics of the different Health Tiers in the different Regions')\n",
    "\n",
    "plt.yticks(ind + width / 2, region_names)\n",
    "plt.legend(loc='best')\n",
    "plt.show()"
   ]
  },
  {
   "cell_type": "markdown",
   "metadata": {},
   "source": [
    "## Problem\n",
    "**According to the first and third bar charts, there are a greater number of health facilities in the southern part of Ghana than in the 3 northern regions.**"
   ]
  },
  {
   "cell_type": "markdown",
   "metadata": {},
   "source": [
    "## Solution\n",
    "**More health facilities should be built in the northern part of Ghana to cater for the health needs of people living there.**"
   ]
  },
  {
   "cell_type": "code",
   "execution_count": null,
   "metadata": {
    "collapsed": true
   },
   "outputs": [],
   "source": []
  }
 ],
 "metadata": {
  "kernelspec": {
   "display_name": "Python 3",
   "language": "python",
   "name": "python3"
  }
 },
 "nbformat": 4,
 "nbformat_minor": 2
}
